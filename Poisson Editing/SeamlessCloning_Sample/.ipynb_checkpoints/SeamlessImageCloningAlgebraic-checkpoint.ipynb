{
 "cells": [
  {
   "cell_type": "markdown",
   "metadata": {},
   "source": [
    "# Seamless Image Cloning (Algebraic)\n",
    "\n",
    "The purpose of this code is to demonstrate the seamless image cloning algorithm. See [1] for details.\n",
    "\n",
    "[1] http://www.cs.jhu.edu/~misha/Fall07/Papers/Perez03.pdf"
   ]
  },
  {
   "cell_type": "markdown",
   "metadata": {},
   "source": [
    "## compute naive clone"
   ]
  },
  {
   "cell_type": "code",
   "execution_count": 5,
   "metadata": {
    "collapsed": false
   },
   "outputs": [
    {
     "data": {
      "image/png": "[encoded data removed]",
      "text/plain": [
       "<matplotlib.figure.Figure at 0x1088bfd90>"
      ]
     },
     "metadata": {},
     "output_type": "display_data"
    }
   ],
   "source": [
    "%matplotlib inline \n",
    "\n",
    "import PIL\n",
    "import PIL.Image\n",
    "import scipy\n",
    "import numpy\n",
    "import matplotlib.pyplot\n",
    "import scipy.misc\n",
    "\n",
    "ref = PIL.Image.open(\"dest.jpg\")\n",
    "ref = numpy.array(ref)\n",
    "ref = scipy.misc.imresize(ref, 0.25, interp=\"bicubic\")\n",
    "\n",
    "target                        = PIL.Image.open(\"source.jpg\")\n",
    "target                        = numpy.array(target)\n",
    "target                        = scipy.misc.imresize(target, 0.25, interp=\"bicubic\")\n",
    "target_array_rgb              = numpy.array(target)\n",
    "target_array_rgb_resized      = scipy.misc.imresize(target, 0.5, interp=\"bicubic\")\n",
    "\n",
    "rny = ref.shape[0]\n",
    "rnx = ref.shape[1]\n",
    "tny = target_array_rgb_resized.shape[0]\n",
    "tnx = target_array_rgb_resized.shape[1]\n",
    "oy  = 10\n",
    "ox  = 50\n",
    "\n",
    "target_array_rgb_resized_view = target_array_rgb_resized.view(dtype=[(\"r\", numpy.uint8), (\"g\", numpy.uint8), (\"b\", numpy.uint8)]).squeeze()\n",
    "zeros                         = numpy.zeros_like(ref)\n",
    "zeros_view                    = zeros.view(dtype=[(\"r\", numpy.uint8), (\"g\", numpy.uint8), (\"b\", numpy.uint8)]).squeeze()\n",
    "target                        = zeros_view.copy()\n",
    "target[oy:oy+tny, ox:ox+tnx]  = target_array_rgb_resized_view\n",
    "target                        = numpy.reshape(target.view(dtype=numpy.uint8), ref.shape)\n",
    "\n",
    "mask                       = numpy.zeros((rny,rnx), dtype=numpy.uint8)\n",
    "mask[oy:oy+tny, ox:ox+tnx] = 1\n",
    "\n",
    "naive_clone                = ref.copy()\n",
    "naive_clone[mask == 1]     = target[mask == 1]\n",
    "\n",
    "\n",
    "\n",
    "matplotlib.pyplot.subplot(141)\n",
    "matplotlib.pyplot.imshow(ref);\n",
    "matplotlib.pyplot.title(\"ref\");\n",
    "\n",
    "matplotlib.pyplot.subplot(142)\n",
    "matplotlib.pyplot.imshow(target);\n",
    "matplotlib.pyplot.title(\"target\");\n",
    "\n",
    "matplotlib.pyplot.subplot(143)\n",
    "matplotlib.pyplot.imshow(mask);\n",
    "matplotlib.pyplot.title(\"mask\");\n",
    "\n",
    "matplotlib.pyplot.subplot(144)\n",
    "matplotlib.pyplot.imshow(naive_clone);\n",
    "matplotlib.pyplot.title(\"naive_clone\");"
   ]
  },
  {
   "cell_type": "markdown",
   "metadata": {},
   "source": [
    "## compute strict interior and border regions, as well as variable index map"
   ]
  },
  {
   "cell_type": "code",
   "execution_count": 2,
   "metadata": {
    "collapsed": false
   },
   "outputs": [
    {
     "data": {
      "image/png": "[encoded data removed]",
      "text/plain": [
       "<matplotlib.figure.Figure at 0x108949210>"
      ]
     },
     "metadata": {},
     "output_type": "display_data"
    }
   ],
   "source": [
    "import skimage\n",
    "import skimage.morphology\n",
    "\n",
    "strict_interior = skimage.morphology.erosion(mask, numpy.ones((3,3), dtype=numpy.uint8))\n",
    "border          = mask - strict_interior\n",
    "strict_interior = mask\n",
    "\n",
    "strict_interior_indices                     = strict_interior.nonzero()\n",
    "num_strict_interior_pixels                  = strict_interior_indices[0].shape[0]\n",
    "variable_index_map                          = -1 * numpy.ones_like(mask, dtype=numpy.int32)\n",
    "variable_index_map[strict_interior_indices] = numpy.arange(num_strict_interior_pixels)\n",
    "\n",
    "matplotlib.pyplot.subplot(121);\n",
    "matplotlib.pyplot.imshow(strict_interior, interpolation=\"nearest\");\n",
    "matplotlib.pyplot.title(\"strict_interior\");\n",
    "\n",
    "matplotlib.pyplot.subplot(122);\n",
    "matplotlib.pyplot.imshow(variable_index_map);\n",
    "matplotlib.pyplot.title(\"variable_index_map\");"
   ]
  },
  {
   "cell_type": "markdown",
   "metadata": {},
   "source": [
    "## compute seamless clone (red)\n",
    "\n",
    "We compute a seamless clone by solving for the unknown pixel values inside a masked region. The seamless cloning algorithm operates only greyscale images, so we apply it each color channel independently. For each pixel location $p$ in the strict interior of the masked region $\\Omega$, we relate the intensities of the unknown, source, and destination pixel values as follows:\n",
    "\n",
    "$$|N_p|f_p - \\sum_{q\\in N_p \\cap \\Omega} f_q = \\sum_{q\\in N_p \\cap \\delta \\Omega} f_q^* + \\sum_{q\\in N_p} (g_p - g_q)$$\n",
    "\n",
    "where:\n",
    "\n",
    "- $N_p$ is the set of $p$'s 4-connected neighbors (note that $|N_p|$ might be less than 4 if $\\Omega$ extends to the image border);\n",
    "\n",
    "- $f_p$ is the unknown intensity value at $p$;\n",
    "\n",
    "- $f_q^*$ is the known intensity value from the destination image in the border of the masked region $\\delta \\Omega$; and\n",
    "\n",
    "- $g_p$ is the known intensity value from the source image at $p$, and $g_q$ is the known intensity value from the source image at $q \\in N_p$"
   ]
  },
  {
   "cell_type": "code",
   "execution_count": 3,
   "metadata": {
    "collapsed": false
   },
   "outputs": [],
   "source": [
    "import scipy\n",
    "import scipy.sparse\n",
    "import scipy.sparse.linalg\n",
    "\n",
    "ref_greyscale    = ref[:,:,0].copy()\n",
    "target_greyscale = target[:,:,0].copy()\n",
    "\n",
    "A = scipy.sparse.dok_matrix((num_strict_interior_pixels,num_strict_interior_pixels), dtype=numpy.float32)\n",
    "B = numpy.zeros(num_strict_interior_pixels, dtype=numpy.float32)\n",
    "\n",
    "for i in range(num_strict_interior_pixels):\n",
    "    \n",
    "    y = strict_interior_indices[0][i]\n",
    "    x = strict_interior_indices[1][i]\n",
    "    \n",
    "    x_right = x+1\n",
    "    x_left  = x-1\n",
    "\n",
    "    y_up    = y-1\n",
    "    y_down  = y+1\n",
    "\n",
    "    assert( i == variable_index_map[y,x] )\n",
    "    \n",
    "    x_neighbors                = []\n",
    "    y_neighbors                = []\n",
    "    variable_indices_neighbors = []\n",
    "    \n",
    "    if x_right < rnx:\n",
    "        y_neighbors.append(y)\n",
    "        x_neighbors.append(x_right)\n",
    "        variable_indices_neighbors.append(variable_index_map[y,x_right])\n",
    "        \n",
    "    if y_up >= 0:\n",
    "        y_neighbors.append(y_up)\n",
    "        x_neighbors.append(x)\n",
    "        variable_indices_neighbors.append(variable_index_map[y_up,x])\n",
    "\n",
    "    if x_left >= 0:\n",
    "        y_neighbors.append(y)\n",
    "        x_neighbors.append(x_left)\n",
    "        variable_indices_neighbors.append(variable_index_map[y,x_left])\n",
    "\n",
    "    if y_down < rny:\n",
    "        y_neighbors.append(y_down)\n",
    "        x_neighbors.append(x)\n",
    "        variable_indices_neighbors.append(variable_index_map[y_down,x])\n",
    "\n",
    "    y_neighbors                                = numpy.array(y_neighbors)\n",
    "    x_neighbors                                = numpy.array(x_neighbors)\n",
    "    variable_indices_neighbors                 = numpy.array(variable_indices_neighbors)\n",
    "    variable_indices_neighbors_strict_interior = (variable_indices_neighbors != -1).nonzero()\n",
    "    variable_indices_neighbors_border          = (variable_indices_neighbors == -1).nonzero()\n",
    "    num_neighbors                              = y_neighbors.shape[0]\n",
    "\n",
    "    sum_vq       = (num_neighbors * target_greyscale[y,x]) - numpy.sum(target_greyscale[(y_neighbors, x_neighbors)])\n",
    "    sum_border_f = numpy.sum(ref_greyscale[(y_neighbors[variable_indices_neighbors_border],x_neighbors[variable_indices_neighbors_border])])\n",
    "    \n",
    "    A[i,i]                                                                         = num_neighbors\n",
    "    A[i,variable_indices_neighbors[variable_indices_neighbors_strict_interior[0]]] = -1\n",
    "    B[i]                                                                           = sum_vq #+ sum_border_f\n",
    "\n",
    "X_r, stop, itn, r1norm, r2norm, anorm, acond, arnorm, xnorm, var = scipy.sparse.linalg.lsqr(A, B, iter_lim=10000, show=False)"
   ]
  },
  {
   "cell_type": "markdown",
   "metadata": {},
   "source": [
    "## compute seamless clone (green)"
   ]
  },
  {
   "cell_type": "code",
   "execution_count": 6,
   "metadata": {
    "collapsed": false
   },
   "outputs": [],
   "source": [
    "import scipy\n",
    "import scipy.sparse\n",
    "import scipy.sparse.linalg\n",
    "\n",
    "ref_greyscale    = ref[:,:,1].copy()\n",
    "target_greyscale = target[:,:,1].copy()\n",
    "\n",
    "A = scipy.sparse.dok_matrix((num_strict_interior_pixels,num_strict_interior_pixels), dtype=numpy.float32)\n",
    "B = numpy.zeros(num_strict_interior_pixels, dtype=numpy.float32)\n",
    "\n",
    "for i in range(num_strict_interior_pixels):\n",
    "    \n",
    "    y = strict_interior_indices[0][i]\n",
    "    x = strict_interior_indices[1][i]\n",
    "    \n",
    "    x_right = x+1\n",
    "    x_left  = x-1\n",
    "\n",
    "    y_up    = y-1\n",
    "    y_down  = y+1\n",
    "\n",
    "    assert( i == variable_index_map[y,x] )\n",
    "    \n",
    "    x_neighbors                = []\n",
    "    y_neighbors                = []\n",
    "    variable_indices_neighbors = []\n",
    "    \n",
    "    if x_right < rnx:\n",
    "        y_neighbors.append(y)\n",
    "        x_neighbors.append(x_right)\n",
    "        variable_indices_neighbors.append(variable_index_map[y,x_right])\n",
    "        \n",
    "    if y_up >= 0:\n",
    "        y_neighbors.append(y_up)\n",
    "        x_neighbors.append(x)\n",
    "        variable_indices_neighbors.append(variable_index_map[y_up,x])\n",
    "\n",
    "    if x_left >= 0:\n",
    "        y_neighbors.append(y)\n",
    "        x_neighbors.append(x_left)\n",
    "        variable_indices_neighbors.append(variable_index_map[y,x_left])\n",
    "\n",
    "    if y_down < rny:\n",
    "        y_neighbors.append(y_down)\n",
    "        x_neighbors.append(x)\n",
    "        variable_indices_neighbors.append(variable_index_map[y_down,x])\n",
    "\n",
    "    y_neighbors                                = numpy.array(y_neighbors)\n",
    "    x_neighbors                                = numpy.array(x_neighbors)\n",
    "    variable_indices_neighbors                 = numpy.array(variable_indices_neighbors)\n",
    "    variable_indices_neighbors_strict_interior = (variable_indices_neighbors != -1).nonzero()\n",
    "    variable_indices_neighbors_border          = (variable_indices_neighbors == -1).nonzero()\n",
    "    num_neighbors                              = y_neighbors.shape[0]\n",
    "    \n",
    "    sum_vq       = (num_neighbors * target_greyscale[y,x]) - numpy.sum(target_greyscale[(y_neighbors, x_neighbors)])\n",
    "    sum_border_f = numpy.sum(ref_greyscale[(y_neighbors[variable_indices_neighbors_border],x_neighbors[variable_indices_neighbors_border])])\n",
    "    \n",
    "    A[i,i]                                                                         = num_neighbors\n",
    "    A[i,variable_indices_neighbors[variable_indices_neighbors_strict_interior[0]]] = -1\n",
    "    B[i]                                                                           = sum_vq #+ sum_border_f\n",
    "\n",
    "X_g, stop, itn, r1norm, r2norm, anorm, acond, arnorm, xnorm, var = scipy.sparse.linalg.lsqr(A, B, iter_lim=10000, show=True)"
   ]
  },
  {
   "cell_type": "markdown",
   "metadata": {},
   "source": [
    "## compute seamless clone (blue)"
   ]
  },
  {
   "cell_type": "code",
   "execution_count": 10,
   "metadata": {
    "collapsed": false
   },
   "outputs": [],
   "source": [
    "import scipy\n",
    "import scipy.sparse\n",
    "import scipy.sparse.linalg\n",
    "\n",
    "ref_greyscale    = ref[:,:,2].copy()\n",
    "target_greyscale = target[:,:,2].copy()\n",
    "\n",
    "A = scipy.sparse.dok_matrix((num_strict_interior_pixels,num_strict_interior_pixels), dtype=numpy.float32)\n",
    "B = numpy.zeros(num_strict_interior_pixels, dtype=numpy.float32)\n",
    "\n",
    "for i in range(num_strict_interior_pixels):\n",
    "    \n",
    "    y = strict_interior_indices[0][i]\n",
    "    x = strict_interior_indices[1][i]\n",
    "    \n",
    "    x_right = x+1\n",
    "    x_left  = x-1\n",
    "\n",
    "    y_up    = y-1\n",
    "    y_down  = y+1\n",
    "\n",
    "    assert( i == variable_index_map[y,x] )\n",
    "    \n",
    "    x_neighbors                = []\n",
    "    y_neighbors                = []\n",
    "    variable_indices_neighbors = []\n",
    "    \n",
    "    if x_right < rnx:\n",
    "        y_neighbors.append(y)\n",
    "        x_neighbors.append(x_right)\n",
    "        variable_indices_neighbors.append(variable_index_map[y,x_right])\n",
    "        \n",
    "    if y_up >= 0:\n",
    "        y_neighbors.append(y_up)\n",
    "        x_neighbors.append(x)\n",
    "        variable_indices_neighbors.append(variable_index_map[y_up,x])\n",
    "\n",
    "    if x_left >= 0:\n",
    "        y_neighbors.append(y)\n",
    "        x_neighbors.append(x_left)\n",
    "        variable_indices_neighbors.append(variable_index_map[y,x_left])\n",
    "\n",
    "    if y_down < rny:\n",
    "        y_neighbors.append(y_down)\n",
    "        x_neighbors.append(x)\n",
    "        variable_indices_neighbors.append(variable_index_map[y_down,x])\n",
    "\n",
    "    y_neighbors                                = numpy.array(y_neighbors)\n",
    "    x_neighbors                                = numpy.array(x_neighbors)\n",
    "    variable_indices_neighbors                 = numpy.array(variable_indices_neighbors)\n",
    "    variable_indices_neighbors_strict_interior = (variable_indices_neighbors != -1).nonzero()\n",
    "    variable_indices_neighbors_border          = (variable_indices_neighbors == -1).nonzero()\n",
    "    num_neighbors                              = y_neighbors.shape[0]\n",
    "    \n",
    "    sum_vq       = (num_neighbors * target_greyscale[y,x]) - numpy.sum(target_greyscale[(y_neighbors, x_neighbors)])\n",
    "    sum_border_f = numpy.sum(ref_greyscale[(y_neighbors[variable_indices_neighbors_border],x_neighbors[variable_indices_neighbors_border])])\n",
    "    \n",
    "    A[i,i]                                                                         = num_neighbors\n",
    "    A[i,variable_indices_neighbors[variable_indices_neighbors_strict_interior[0]]] = -1\n",
    "    B[i]                                                                           = sum_vq #+ sum_border_f\n",
    "\n",
    "X_b, stop, itn, r1norm, r2norm, anorm, acond, arnorm, xnorm, var = scipy.sparse.linalg.lsqr(A, B, iter_lim=10000, show=False)"
   ]
  },
  {
   "cell_type": "code",
   "execution_count": 11,
   "metadata": {
    "collapsed": false
   },
   "outputs": [
    {
     "data": {
      "image/png": "[encoded data removed]",
      "text/plain": [
       "<matplotlib.figure.Figure at 0x10a96fb10>"
      ]
     },
     "metadata": {},
     "output_type": "display_data"
    }
   ],
   "source": [
    "ref_r,ref_g,ref_b = numpy.split(ref, 3, axis=2)\n",
    "\n",
    "seamless_clone_r = ref_r.squeeze().copy()\n",
    "seamless_clone_g = ref_g.squeeze().copy()\n",
    "seamless_clone_b = ref_b.squeeze().copy()\n",
    "\n",
    "seamless_clone_r[strict_interior_indices] = numpy.clip(X_r,0,255)\n",
    "seamless_clone_g[strict_interior_indices] = numpy.clip(X_g,0,255)\n",
    "seamless_clone_b[strict_interior_indices] = numpy.clip(X_b,0,255)\n",
    "\n",
    "seamless_clone = \\\n",
    "    numpy.concatenate((seamless_clone_r[:,:,numpy.newaxis], seamless_clone_g[:,:,numpy.newaxis],seamless_clone_b[:,:,numpy.newaxis]), axis=2).copy()\n",
    "\n",
    "\n",
    "\n",
    "matplotlib.pyplot.subplot(141)\n",
    "matplotlib.pyplot.imshow(ref);\n",
    "matplotlib.pyplot.title(\"ref\");\n",
    "\n",
    "matplotlib.pyplot.subplot(142)\n",
    "matplotlib.pyplot.imshow(target);\n",
    "matplotlib.pyplot.title(\"target\");\n",
    "\n",
    "matplotlib.pyplot.subplot(143)\n",
    "matplotlib.pyplot.imshow(naive_clone);\n",
    "matplotlib.pyplot.title(\"naive_clone\");\n",
    "\n",
    "matplotlib.pyplot.subplot(144)\n",
    "matplotlib.pyplot.imshow(seamless_clone);\n",
    "matplotlib.pyplot.title(\"seamless_clone\");"
   ]
  },
  {
   "cell_type": "code",
   "execution_count": 12,
   "metadata": {
    "collapsed": false
   },
   "outputs": [
    {
     "data": {
      "image/png": "[encoded data removed]",
      "text/plain": [
       "<matplotlib.figure.Figure at 0x10aa2f0d0>"
      ]
     },
     "metadata": {},
     "output_type": "display_data"
    }
   ],
   "source": [
    "\n",
    "\n",
    "matplotlib.pyplot.subplot(121)\n",
    "matplotlib.pyplot.imshow(naive_clone, interpolation=\"nearest\");\n",
    "matplotlib.pyplot.title(\"naive_clone\");\n",
    "\n",
    "matplotlib.pyplot.subplot(122)\n",
    "matplotlib.pyplot.imshow(seamless_clone, interpolation=\"nearest\");\n",
    "matplotlib.pyplot.title(\"seamless_clone\");"
   ]
  },
  {
   "cell_type": "code",
   "execution_count": null,
   "metadata": {
    "collapsed": true
   },
   "outputs": [],
   "source": []
  }
 ],
 "metadata": {
  "kernelspec": {
   "display_name": "Python 2",
   "language": "python",
   "name": "python2"
  },
  "language_info": {
   "codemirror_mode": {
    "name": "ipython",
    "version": 2
   },
   "file_extension": ".py",
   "mimetype": "text/x-python",
   "name": "python",
   "nbconvert_exporter": "python",
   "pygments_lexer": "ipython2",
   "version": "2.7.11"
  }
 },
 "nbformat": 4,
 "nbformat_minor": 0
}
