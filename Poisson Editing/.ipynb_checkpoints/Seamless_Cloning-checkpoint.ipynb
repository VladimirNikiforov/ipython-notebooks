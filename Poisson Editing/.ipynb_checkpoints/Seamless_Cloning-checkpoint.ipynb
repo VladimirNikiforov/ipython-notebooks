{
 "cells": [
  {
   "cell_type": "markdown",
   "metadata": {},
   "source": [
    "This is an [jupyter](http://jupyter.org) notebook.\n",
    "Lectures about Python, useful both for beginners and experts, can be found at http://scipy-lectures.github.io."
   ]
  },
  {
   "cell_type": "markdown",
   "metadata": {},
   "source": [
    "# <font color= 'blue'> Poisson Image Editing</font>"
   ]
  },
  {
   "cell_type": "markdown",
   "metadata": {},
   "source": [
    "## Seamless Image Cloning\n",
    "\n",
    "***\n",
    " A notebook by ***Dhruv Ilesh Shah***\n",
    "***\n",
    "\n",
    "In this exercise, we will learn and implement Seamless Image Cloning by employing the Poisson Solver.\n",
    "\n",
    "***Packages Used:*** Python 2.7, Numpy, Matplotlib, openCV 3.1.0,  `gimp 2.8` (recommended)\n",
    "\n",
    "*openCV has been used only for Image importing purposes, and can be replaced by PIL as well. Similarly, Matplotlib has been used only for displaying results inline.*\n",
    "***\n",
    "***"
   ]
  },
  {
   "cell_type": "markdown",
   "metadata": {},
   "source": [
    "### Motivation\n",
    "\n",
    "Image cloning and morphing have been some of the most common purposes of Image Processing and editing. Most of us have used these tools at a very abstract level through packages like Photoshop or GIMP etc. But have you ever thought about what goes into actuating this process? Here we explain the math behind the idea and the algorithm for seamlessly cloning an image *(or a portion thereof)* onto another image.\n",
    "\n",
    "Soon after, we'll get our hands dirty by actually coding the algorithm and running it on a sample image to achieve the results for oursef. Towards the end, we will also look at the various parameters that can be tweaked to achieve better results.\n",
    "***"
   ]
  },
  {
   "cell_type": "markdown",
   "metadata": {},
   "source": [
    "### Understanding Seamless Cloning\n",
    "\n",
    "Say you want to clone/morph a portion of image 1 onto a position on image 2. The simplest way to start off is to simply **paste** that portion of image on the other. But well, as you'd expect, the border has a very *sharp* change in features (known as gradient) and hence we can easily claim that the image is forged. What we need is a way to create a softer gradient, so that the image looks more natural.\n",
    "\n",
    "![Seamless Cloning Example](images/seamless_cloning_ex.jpg)\n",
    "\n",
    "As you see above, the softening of edges can be employed to make the image look better. This is a common blendng style in many Image Editing tools. Our goal, in this notebook, is to implement a function that can do a similar task from scratch. *(Do note that a similar function already exists in openCV)*\n",
    "\n",
    "At a very naive level, imagine the problem as solving the Laplace's Equation in 2 dimensions. The boundary of the cloned portion refer to the Boundary Conditions and you have to find a smooth curve fitting the conditions, such that no local extrema exist within the area, giving you a smooth image. This, at a basic level, is how the algorithm is evaluated. Now, let's get into the math behind the algorithm, and discretisation of the algorithm!\n",
    "***"
   ]
  },
  {
   "cell_type": "markdown",
   "metadata": {},
   "source": [
    "### The Math behind the Problem\n",
    "\n",
    "It was well known to psychologists [Land and McCann 1971] that slow gradients of intensity, which are suppressed by the Laplacian operator, can be superimposed on an image with barely noticeable effect. Conversely, the second-order variations extracted by the Laplacian operator are the most significant perceptually.\n",
    "\n",
    "Secondly, a *scalar* function on a bounded domain is uniquely defined by its values on the boundary and its Laplacian in the interior. The Poisson equation therefore has a unique solution and this leads to a sound algorithm.\n",
    "\n",
    "So, given methods for crafting the Laplacian of an unknown function over some domain, and its boundary conditions, the Poisson equation can be solved numerically to achieve seamless filling of that domain. This can be replicated independently in each of the channels of a color image. Solving the Poisson equation also has an alternative interpretation as a minimization problem: it computes the function whose gradient is the closest, in the L2 -norm, to some prescribed vector field — the *guidance vector field* — under given boundary conditions. In that way, the reconstructed function interpolates the boundary conditions inwards, while following the spatial variations of the guidance field as closely as possible."
   ]
  },
  {
   "cell_type": "markdown",
   "metadata": {},
   "source": [
    "**Poisson Solution to *Guided Interpolation*: ** Interpolation, in the context of images, refers to being able to predict, and assign, values to an undefined pixel, given the surrounding values. It is one of the simplest ways to smoothen out an image and make it seamless. A good explanation on the topic can be found [here](https://prieuredesion.github.io/image%20processing/2016/05/15/interpolation.html). ![Guided Interpolation](images/guided_interpolation.png)\n",
    "\n",
    "The above image gives a great idea of the task at hand. Note the terminologies, as it would be used later as well. ***g*** refers to the portion of the source image that goes ON the $\\Omega$ portion of the destination image. ***v*** is the gradient field that defines features like texture and gradience in that portion. ***f*** is the symbol used to denote the cloned portion that will be processed.\n",
    "\n",
    "The simplest interpolant f over Ω is the membrane interpolant defined as the solution of the minimization problem:\n",
    "\n",
    "$$\\min_f \\int_{\\infty}^{} |\\nabla f|^2 \\hspace{0.5cm} with \\hspace{0.5cm} f|_{d\\Omega} = f^*|_{d\\Omega} $$\n",
    "where $\\nabla$ is the gradient operator. The minimisation problem mentioned above is more like solving the Laplace's equation ($\\nabla^2 f = 0$) with no gradient field. In the presence of a gradient vector field, we define the problem as follows:\n",
    "$$\\min_f \\int_{\\infty}^{} |\\nabla f - v|^2 \\hspace{5mm} with \\hspace{5mm} f|_{d\\Omega} = f^*|_{d\\Omega} $$\n",
    "\n",
    "The nature of this *guidance field* defines the nature of cloning, and various other results can be obtained by only tweaking this ***v*** from this algorithm, keeping everything else the same. The algorithm works by solving the *Dirichlet Boundary Condition* in the region $d\\Omega$, which is the boundary of the region $\\Omega$. The algorithm used for solving is known as the ***Jacobi's Iterative Method***."
   ]
  },
  {
   "cell_type": "markdown",
   "metadata": {},
   "source": [
    "### Employing the *Discrete* Poisson Solver\n",
    "\n",
    "As you would already be wondering, solving an integral and minimising an expression directly is not very intuitive, for implementing in a code. Instead, we choose to *approximate* and discretise the expressions so that they make more sense.\n",
    "\n",
    "For discrete images the problem can be discretized naturally using the underlying discrete pixel grid. Without loss of generality, we will keep the same notations for the continuous objects and their discrete counterparts: S, $\\Omega$ now become finite point sets defined on an infinite discrete grid. Note that S can include all the pixels of an image or only a subset of them. For each pixel p in S, let $N_p$ be the set of its 4-connected neighbors which are in S, and let p, q denote a pixel pair such that q ∈ $N_p$. The boundary of Ω is now $d\\Omega$ = {p ∈ S \\ $\\Omega : N_p \\cap \\Omega \\neq \\emptyset$}. Let $f_p$ be the value of f at p. The task is to compute the set of intensities $f|_\\Omega = f_p, p \\in \\Omega $.\n",
    "\n",
    "For Dirichlet Boundary Conditions, the finite difference discretisation yields the following quadratic optimisation problem.\n",
    "\n",
    "$$ \\min_{f|_\\Omega} \\sum_{\\langle p,q\\rangle\\cap\\Omega\\neq\\emptyset} (f_p-f_q-v_{pq})^2 \\hspace{3mm} with \\hspace{3mm} f_p=f_p^* \\hspace{3mm} for\\:all\\:p \\in d\\Omega$$\n",
    "\n",
    "Where $v_{pq}$ is the projection of $v(\\frac{p+q}{2})$  on the oriented edge $[p,q]$. It's solution satisfies the following simultaneous linear equations:\n",
    "\n",
    "$$for\\:all\\:p \\in \\Omega,\\,|N_p|f_p-\\sum_{q\\in N_p\\cap\\Omega}f_q\\,=\\,\\sum_{q\\in N_p\\cap d\\Omega}f_q^* + \\sum_{q\\in N_p}v_{pq}$$\n",
    "\n",
    "The equations above form a classical, [positive-definite system](http://www.math.usm.edu/lambers/mat610/sum10/lecture7.pdf). Since the boundary $d\\Omega$ can be arbitrary, we must use well-known iterative solvers like the Gauss-Siedel iteration with successive overrelaxation."
   ]
  },
  {
   "cell_type": "markdown",
   "metadata": {},
   "source": [
    "### Implementing Seamless Cloning\n",
    "\n",
    "From the algorithm discussed in the earlier part, we see that the only missing information is the *gradient field **v***. The gradient field defines the features and textures of the image that we wish to introduce. Intuitively, what do you think would be an ideal gradient field for the region $\\Omega$ in the current situation?"
   ]
  },
  {
   "cell_type": "markdown",
   "metadata": {},
   "source": [
    "## <font color=\"blue\"> Let's get Coding!!! </font>"
   ]
  },
  {
   "cell_type": "code",
   "execution_count": 1,
   "metadata": {
    "collapsed": true
   },
   "outputs": [],
   "source": [
    "%matplotlib inline \n",
    "\n",
    "import cv2\n",
    "import numpy as np\n",
    "import matplotlib.pyplot as plt"
   ]
  },
  {
   "cell_type": "markdown",
   "metadata": {},
   "source": [
    "For applying the algorithm, you will need the cloned image and a mask that identifies the cloned portion of the image. The purpose of the mask will clear in the subsequent steps.  \n",
    "***How to obtain the mask?*** *This method needs improvement - suggestions welcome!*\n",
    "* Given that you clone the image on your system, I recommend you use `gimp` for the purpose. Open `GIMP Image Editor`.\n",
    "* Open the image on which cloning must occur, the destination image.\n",
    "* In another window, open the source, whose portion is to be cloned. Using the select tool, select and copy the portion.\n",
    "* Paste the portion on the destination image. You will see that a new layer with the pasted portion will be created. Using the `Transform` tool, move the portion to desired location and scale accordingly, using the `Scale` tool.\n",
    "* Export this image and save your cloned file as a `jpeg` or `png` file. Now we must make the mask.\n",
    "* Create a new `background layer` and place it below the pasted layer. Also, hide the destination image layer. Select the bg-layer and color it black using the Color Tool.\n",
    "* You will now have the cloned portion on a black background. Using the Thresholding tool (or on `cv2`), threshold all pixels above 1 as 255.(*This should work unless your image has a pixel value 0, in which case you may have to use floodFill or explicitly modify the mask file*).\n",
    "* Export this file as the mask image in the `jpeg` or `png` format.\n",
    "\n",
    "Let's now begin with the algorithm implementation."
   ]
  },
  {
   "cell_type": "code",
   "execution_count": 5,
   "metadata": {
    "collapsed": false
   },
   "outputs": [],
   "source": [
    "im_cloned = cv2.imread(\"stinkbug_cloned.png\",  cv2.IMREAD_GRAYSCALE)\n",
    "im_mask = cv2.imread(\"stinkbug_cloned_mask.png\", cv2.IMREAD_GRAYSCALE)\n",
    "it = 200; # Set number of iterations"
   ]
  },
  {
   "cell_type": "markdown",
   "metadata": {},
   "source": [
    "After importing the image and mask, we create a temporary image to store the current value of pixels as the new ones are being calculated. This is because we want to simultaneously update values. * The iterative method used is called the ** Jacobi's Method. ** * In contrast to this, the ***Gauss-Siedel method*** involves no temporary matrix and the update occurs along with the code. This converges faster, but may result in loss of information and unexpected outcomes in some cases."
   ]
  },
  {
   "cell_type": "code",
   "execution_count": 6,
   "metadata": {
    "collapsed": false
   },
   "outputs": [
    {
     "name": "stdout",
     "output_type": "stream",
     "text": [
      "0\n",
      "1\n",
      "2\n",
      "3\n",
      "4\n",
      "5\n",
      "6\n",
      "7\n",
      "8\n",
      "9\n",
      "10\n",
      "11\n",
      "12\n",
      "13\n",
      "14\n",
      "15\n",
      "16\n",
      "17\n",
      "18\n",
      "19\n",
      "20\n",
      "21\n",
      "22\n",
      "23\n",
      "24\n",
      "25\n",
      "26\n",
      "27\n",
      "28\n",
      "29\n",
      "30\n",
      "31\n",
      "32\n",
      "33\n",
      "34\n",
      "35\n",
      "36\n",
      "37\n",
      "38\n",
      "39\n",
      "40\n",
      "41\n",
      "42\n",
      "43\n",
      "44\n",
      "45\n",
      "46\n",
      "47\n",
      "48\n",
      "49\n",
      "50\n",
      "51\n",
      "52\n",
      "53\n",
      "54\n",
      "55\n",
      "56\n",
      "57\n",
      "58\n",
      "59\n",
      "60\n",
      "61\n",
      "62\n",
      "63\n",
      "64\n",
      "65\n",
      "66\n",
      "67\n",
      "68\n",
      "69\n",
      "70\n",
      "71\n",
      "72\n",
      "73\n",
      "74\n",
      "75\n",
      "76\n",
      "77\n",
      "78\n",
      "79\n",
      "80\n",
      "81\n",
      "82\n",
      "83\n",
      "84\n",
      "85\n",
      "86\n",
      "87\n",
      "88\n",
      "89\n",
      "90\n",
      "91\n",
      "92\n",
      "93\n",
      "94\n",
      "95\n",
      "96\n",
      "97\n",
      "98\n",
      "99\n",
      "100\n",
      "101\n",
      "102\n",
      "103\n",
      "104\n",
      "105\n",
      "106\n",
      "107\n",
      "108\n",
      "109\n",
      "110\n",
      "111\n",
      "112\n",
      "113\n",
      "114\n",
      "115\n",
      "116\n",
      "117\n",
      "118\n",
      "119\n",
      "120\n",
      "121\n",
      "122\n",
      "123\n",
      "124\n",
      "125\n",
      "126\n",
      "127\n",
      "128\n",
      "129\n",
      "130\n",
      "131\n",
      "132\n",
      "133\n",
      "134\n",
      "135\n",
      "136\n",
      "137\n",
      "138\n",
      "139\n",
      "140\n",
      "141\n",
      "142\n",
      "143\n",
      "144\n",
      "145\n",
      "146\n",
      "147\n",
      "148\n",
      "149\n",
      "150\n",
      "151\n",
      "152\n",
      "153\n",
      "154\n",
      "155\n",
      "156\n",
      "157\n",
      "158\n",
      "159\n",
      "160\n",
      "161\n",
      "162\n",
      "163\n",
      "164\n",
      "165\n",
      "166\n",
      "167\n",
      "168\n",
      "169\n",
      "170\n",
      "171\n",
      "172\n",
      "173\n",
      "174\n",
      "175\n",
      "176\n",
      "177\n",
      "178\n",
      "179\n",
      "180\n",
      "181\n",
      "182\n",
      "183\n",
      "184\n",
      "185\n",
      "186\n",
      "187\n",
      "188\n",
      "189\n",
      "190\n",
      "191\n",
      "192\n",
      "193\n",
      "194\n",
      "195\n",
      "196\n",
      "197\n",
      "198\n",
      "199\n"
     ]
    }
   ],
   "source": [
    "im_temp = im_cloned.copy()\n",
    "im_seamless = im_temp.copy()\n",
    "sigma = []\n",
    "for i in range(im_cloned.shape[0]):\n",
    "        for j in range(im_cloned.shape[1]):\n",
    "            if (im_mask[i,j]==255):\n",
    "                sigma.append([i,j])\n",
    "\n",
    "for a in range(it):\n",
    "    for [i,j] in sigma:\n",
    "        term = 10000\n",
    "        term = term + im_seamless[i+1, j]+im_seamless[i-1, j]+im_seamless[i, j-1]+im_seamless[i, j+1]\n",
    "        if(im_mask[i-1, j]==255):\n",
    "            term = term + im_cloned[i,j]-im_cloned[i-1,j]\n",
    "        if(im_mask[i+1, j]==255):\n",
    "            term = term + im_cloned[i,j]-im_cloned[i+1,j]\n",
    "        if(im_mask[i, j+1]==255):\n",
    "            term = term + im_cloned[i,j]-im_cloned[i,j+1]\n",
    "        if(im_mask[i, j-1]==255):\n",
    "            term = term + im_cloned[i,j]-im_cloned[i,j-1]\n",
    "        im_temp[i,j] = (term-10000)/4\n",
    "    im_seamless = im_temp.copy()\n",
    "    print a"
   ]
  },
  {
   "cell_type": "markdown",
   "metadata": {},
   "source": [
    "As is visible from the code, we scan the whole cloned image for points where the corresponding value of the mask is 255 (*white*), and update `im_temp` as suggested in the algorithm. The gradient for the source image is defined as zero at the boundary points.\n",
    "*Note that the pixel values in cv2 are of `ubyte_scalar` type and hence don't support addition due to overflow. `10000` is a random large number that helps maintain the variable `term` as a normal integer and hence allow addition without overflow*"
   ]
  },
  {
   "cell_type": "code",
   "execution_count": 7,
   "metadata": {
    "collapsed": false
   },
   "outputs": [
    {
     "data": {
      "text/plain": [
       "<matplotlib.text.Text at 0x7f1aeff0cb10>"
      ]
     },
     "execution_count": 7,
     "metadata": {},
     "output_type": "execute_result"
    },
    {
     "data": {
      "image/png": "[encoded data removed]",
      "text/plain": [
       "<matplotlib.figure.Figure at 0x7f1af20cb750>"
      ]
     },
     "metadata": {},
     "output_type": "display_data"
    }
   ],
   "source": [
    "fig, ax = plt.subplots(1, 2)\n",
    "ax[0].imshow(im_cloned,cmap = 'gray')\n",
    "ax[0].set_title('Normal Cloning')\n",
    "ax[1].imshow(im_seamless, cmap='gray')\n",
    "ax[1].set_title('Seamless Cloning')"
   ]
  },
  {
   "cell_type": "markdown",
   "metadata": {
    "collapsed": true
   },
   "source": [
    "#### Thank You!"
   ]
  }
 ],
 "metadata": {
  "kernelspec": {
   "display_name": "Python 2",
   "language": "python",
   "name": "python2"
  },
  "language_info": {
   "codemirror_mode": {
    "name": "ipython",
    "version": 2
   },
   "file_extension": ".py",
   "mimetype": "text/x-python",
   "name": "python",
   "nbconvert_exporter": "python",
   "pygments_lexer": "ipython2",
   "version": "2.7.6"
  }
 },
 "nbformat": 4,
 "nbformat_minor": 0
}
