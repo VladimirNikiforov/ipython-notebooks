{
 "cells": [
  {
   "cell_type": "markdown",
   "metadata": {},
   "source": [
    "This is an [jupyter](http://jupyter.org) notebook.\n",
    "Lectures about Python, useful both for beginners and experts, can be found at http://scipy-lectures.github.io."
   ]
  },
  {
   "cell_type": "markdown",
   "metadata": {},
   "source": [
    "Open the notebook by (1) copying this file into a directory, (2) in that directory typing \n",
    "jupyter-notebook\n",
    "and (3) selecting the notebook.\n",
    "\n",
    "***\n",
    "Written By: **Riddhish Bhalodia**\n",
    "***\n",
    "\n",
    "In this exercise, we will learn and code about Kalman Filtering and look at few of it's applications."
   ]
  },
  {
   "cell_type": "markdown",
   "metadata": {},
   "source": [
    "# Kalman Filtering\n",
    "## Motivation"
   ]
  },
  {
   "cell_type": "markdown",
   "metadata": {},
   "source": [
    "Let me start it this way that before Rudolf Kalman (co-inventor of Kalman filtering), problems were divided in two distinct classes *Control Problems* (what value of acceleration should be provided to the car so that it climbes a certain incline with constant speed) and *Filtering Problem* (damn this noisy accelerometer, I can't get a clear value even at a fized point). \n",
    "\n",
    "You might have guessed (if you care to read the brackets :P) that the two problems are not uncorellated. To the un-initiated, take a senario that the car has a noisy accelerometer and you want to control it's speed on the incline, so two problems in one. One way is to solve them independently, but that is too situation dependent and so there was a need for a *dynamic solution* for *filtering while controlling and vice versa*, essentially bringing the two seperate problems under one roof.\n",
    "\n",
    "This is presicely what Kalman Filter does! Kalman Filter and it's non-linear extensions are essential elements in modern control theory. Lot of different applications ranging from filtering noisy sensor output to autonomous robot navigation uses Kalman Filter.\n",
    "\n",
    "In this tutorial we will first start off with an application, which we will code (yay!) and then move on to buld Kalman filtering theory.\n"
   ]
  },
  {
   "cell_type": "markdown",
   "metadata": {},
   "source": [
    "## Faulty Voltmeter\n"
   ]
  },
  {
   "cell_type": "markdown",
   "metadata": {},
   "source": [
    "A classic example to start with and very intuitive. We have to measure a DC voltage from a faulty (noisy) voltmeter, it cant get any simpler than this.\n",
    "First off let's import certain packages"
   ]
  },
  {
   "cell_type": "code",
   "execution_count": 1,
   "metadata": {
    "collapsed": true
   },
   "outputs": [],
   "source": [
    "%matplotlib inline \n",
    "\n",
    "import numpy as np\n",
    "import matplotlib.pyplot as plt\n",
    "import random"
   ]
  },
  {
   "cell_type": "markdown",
   "metadata": {},
   "source": [
    "Now for solving any computational problem we need to model the *system* (in layman terms, set of equations which is used to describe the overall situation and how it varies with physical inputs and parameters).\n",
    "The simplest way to model the noisy voltmeter at *every measurenment instant* is through the following equation\n",
    "\\begin{equation}\n",
    "V_m = V_{m-1} + \\omega_m \\qquad (1)\n",
    "\\end{equation}"
   ]
  },
  {
   "cell_type": "markdown",
   "metadata": {},
   "source": [
    "Here, $V_m$ : Voltage at current time,\n",
    "      $V_{m-1}$ : Voltage at previous time instant,\n",
    "      $\\omega_m$ : Random Noise (process noise)\n",
    "      \n",
    "We also have measurenments taken at each instance m which is given by $Z_m$ and is corrupted by some sensor (measurenment) noise $\\nu_m$\n",
    "\n",
    "$$Z_m = V_m + \\nu_m \\qquad (2)$$"
   ]
  },
  {
   "cell_type": "markdown",
   "metadata": {},
   "source": [
    "Usually in such cases as $\\nu_m$ is introduced due to faults in voltmeter (sensor) and hence we usually know it's characteristics (least count, precision ... ring any bells?). So here we will model $\\nu_m$ as a Gaussian Random Variable (as it is usually done) with zero mean and standard deviation $\\sigma_{\\nu} = 0.3$ (for simulation sake). $\\omega_m$ is more difficult to predict and is introduced by error due to non-ideality (we know it's constant DC voltage, but is it really!) of our process equations but we still assume that we know it. Again, $\\omega_m$ is to be modelled by a Gaussian Random Variable with zero mean and standard deviation $\\sigma_{\\omega} = 0.01$."
   ]
  },
  {
   "cell_type": "markdown",
   "metadata": {},
   "source": [
    "So before solving this let's model this voltmeter, What are the parameters to give. The true constant voltage lets say variable `true_voltage = 1`, and we need a noise level as well (this is voltmeter's error so will feature in measurenment error), say variable `noise_level_sig = 0.2` (KF works when noise estimate are off by a mark...). Let's take measurenments for 50 instances store it in `iter_max` and we will generate the measurenment for each instant which will be just $~ \\mathcal{N}(true\\_voltage,noise\\_level\\_sig)$ (Think about this :))"
   ]
  },
  {
   "cell_type": "code",
   "execution_count": 7,
   "metadata": {
    "collapsed": true
   },
   "outputs": [],
   "source": [
    "true_voltage = 1\n",
    "noise_level_sig = 0.2\n",
    "iter_max = 50\n",
    "measurenments = []\n",
    "true_voltage_mat = []\n",
    "\n",
    "for i in range(iter_max):\n",
    "    measured = random.gauss(true_voltage , noise_level_sig)\n",
    "    measurenments.append(measured)\n",
    "    true_voltage_mat.append(true_voltage)\n"
   ]
  },
  {
   "cell_type": "markdown",
   "metadata": {},
   "source": [
    "Let's plot how the measurnments look as compared to the true voltage"
   ]
  },
  {
   "cell_type": "code",
   "execution_count": 8,
   "metadata": {
    "collapsed": false
   },
   "outputs": [
    {
     "data": {
      "text/plain": [
       "<matplotlib.legend.Legend at 0x110b27790>"
      ]
     },
     "execution_count": 8,
     "metadata": {},
     "output_type": "execute_result"
    },
    {
     "data": {
      "image/png": "[encoded data removed]",
      "text/plain": [
       "<matplotlib.figure.Figure at 0x110a4a2d0>"
      ]
     },
     "metadata": {},
     "output_type": "display_data"
    }
   ],
   "source": [
    "plt.plot(range(iter_max),true_voltage_mat,'b',range(iter_max), measurenments,'r')\n",
    "plt.xlabel('Time Instances')\n",
    "plt.ylabel('Voltage')\n",
    "plt.legend(('true voltage', 'measured'), loc=4)"
   ]
  },
  {
   "cell_type": "markdown",
   "metadata": {},
   "source": [
    "Now starts the actual thing, we want to filter this :D, by using Kalman Filtering. But first we need to derive, so do get ready for a chunk load of theory, but but please be paitient as once we are done with this, the standard Kalman Filter will be a piece of cake\n",
    ":)\n",
    "\n",
    "### Filtering!!\n"
   ]
  },
  {
   "cell_type": "markdown",
   "metadata": {},
   "source": [
    "Math Math Math.\n",
    "\n",
    "That being said, to solve this problem iteratively we need two major step\n",
    "\n",
    "* Predict the voltage at next instance using the previous estimate (1)\n",
    "* Correct the estimate based on the measurenment at that instant \n",
    "\n",
    "So we define two variables, $\\hat{V}^-_m :$ *prior* estimate of the voltage given only the knowledge of the process (the equation (1)) and $\\hat{V}_m :$ *posterior* estimate of the voltage at step m given the knowledge of the measurenment $Z_m$ "
   ]
  },
  {
   "cell_type": "markdown",
   "metadata": {},
   "source": [
    "So lets' start the firing of equations, just one comment before this, we will also estimate the error in the estimate at every iteration along with the estimate itself.\n",
    "\n",
    "$$e_m = V_m - \\hat{V}_m \\quad \\textrm{and} \\quad \\sigma^2_m = \\mathbb{E}[e_m^2]$$\n",
    "\n",
    "and \n",
    "\n",
    "$$e^-_m = V_m - \\hat{V}^-_m \\quad \\textrm{and} \\quad \\sigma^{2-}_m = \\mathbb{E}[e_m^{2-}]$$\n",
    "\n",
    "We have to minimize this $\\sigma^2_m$. So now as any sane person (ok statistician) would do we would model the *posterior* estimate $\\hat{V}_m$ as the linear combination of the *prior* estimate $\\hat{V}^-_m$ and the deviation of the estimate from the measurenment (also called as *innovation term*) given as\n",
    "\n",
    "$$y_m = Z_m - \\hat{V}^-_m \\qquad (3)$$\n"
   ]
  },
  {
   "cell_type": "markdown",
   "metadata": {},
   "source": [
    "Putting the above ramble in equation we have \n",
    "\n",
    "$$\\hat{V}_m = \\hat{V}^-_m + k_my_m \\qquad (4)$$\n",
    "\n",
    "subtracting $V_m$ from both sides we get\n",
    "\n",
    "$$\\hat{V}_m - V_m = \\hat{V}^-_m - V_m + k_m(Z_m - \\hat{V}^-_m)$$\n",
    "\n",
    "To compute $k_m$ we take the square and it's expectation and then differentiate the quadratic in $k_m$ to get something like (try this your self)\n",
    "\n",
    "$$k_m = \\frac{\\mathbb{E}[(V_m - \\hat{V}^-_m)(y_m)]}{\\mathbb{E}[y_m^2]}$$"
   ]
  },
  {
   "cell_type": "markdown",
   "metadata": {},
   "source": [
    "The numerator and denominator when expanded and taking into the account for independence of the R.V $Z_m$, $V_m$, and $\\hat{V}^-_m$ (think about this too) we get \n",
    "\n",
    "$$k_m = \\frac{\\sigma^{2-}_m}{\\sigma^{2-}_m + \\sigma^2_{\\nu}} \\qquad (5)$$\n",
    "\n",
    "along with this we also have from equation(1) \n",
    "\n",
    "$$\\sigma_m^{2-} = \\sigma_{m-1}^2 + \\sigma_\\omega^2 \\qquad (6)$$"
   ]
  },
  {
   "cell_type": "markdown",
   "metadata": {},
   "source": [
    "Now substituting this (5) in the quadratic for $\\mathbb{E}[e^2_m]$ we get the variance as\n",
    "\n",
    "$$\\sigma^2_m = (1 - k_m)\\sigma_m^{2-} \\qquad (7)$$\n",
    "\n",
    "Now we have everything :D, already! It will be clear when you look at the summary below\n",
    "* Start with an initial guess for V = V_0\n",
    "* Get the *prior* estimate of voltage and it's error ($\\hat{V}^-_m$ and $\\sigma_m^{2-}$) from the process equation (1) and (6)\n",
    "* Using the *prior* estimates and the measurnement data at instant m we get the *posterior* (read corrected) estimates of the voltage and it's error at instant m ($\\hat{V}_m$ and $\\sigma_m^2$)\n",
    "* Repeat this for several instances and we will converge to a solution (Yes! there exist a proof for convergence, you can google it up)"
   ]
  },
  {
   "cell_type": "markdown",
   "metadata": {},
   "source": [
    "So hopefully you would have gotton a hang of how this works. So let's code it up"
   ]
  },
  {
   "cell_type": "code",
   "execution_count": 9,
   "metadata": {
    "collapsed": false
   },
   "outputs": [],
   "source": [
    "# Initialize the parameters\n",
    "\n",
    "initial_guess = 3\n",
    "initial_guess_error = 1\n",
    "sig_nu = 0.3\n",
    "sig_omega = 0.01\n",
    "estimate_vector = []\n",
    "estimate_vector.append(initial_guess)\n",
    "error_estimate_vector = []\n",
    "error_estimate_vector.append(initial_guess_error)\n",
    "\n",
    "# Run the Filter\n",
    "\n",
    "for i in range(iter_max-1):\n",
    "    # first the prior estimation step\n",
    "    \n",
    "    volt_prior_est = estimate_vector[i]\n",
    "    error_prior_est = error_estimate_vector[i] + sig_omega * sig_omega\n",
    "    \n",
    "    # estimate correction\n",
    "    \n",
    "    k = error_prior_est/(error_prior_est + sig_nu * sig_nu)\n",
    "    volt_corrected_est = volt_prior_est + k * (measurenments[i+1] - volt_prior_est)\n",
    "    error_corrected_est = (1 - k) * error_prior_est\n",
    "    estimate_vector.append(volt_corrected_est)\n",
    "    error_estimate_vector.append(error_corrected_est)\n",
    "    "
   ]
  },
  {
   "cell_type": "markdown",
   "metadata": {},
   "source": [
    "Let us plot the things"
   ]
  },
  {
   "cell_type": "code",
   "execution_count": 11,
   "metadata": {
    "collapsed": false
   },
   "outputs": [
    {
     "data": {
      "text/plain": [
       "<matplotlib.legend.Legend at 0x110d9d490>"
      ]
     },
     "execution_count": 11,
     "metadata": {},
     "output_type": "execute_result"
    },
    {
     "data": {
      "image/png": "[encoded data removed]",
      "text/plain": [
       "<matplotlib.figure.Figure at 0x110c0db50>"
      ]
     },
     "metadata": {},
     "output_type": "display_data"
    }
   ],
   "source": [
    "plt.figure()\n",
    "plt.plot(range(iter_max),true_voltage_mat,'b',range(iter_max), measurenments,'r', range(iter_max), estimate_vector,'g')\n",
    "plt.xlabel('Time Instances')\n",
    "plt.ylabel('Voltage')\n",
    "plt.legend(('true voltage', 'measured', 'filtered'), loc=1)"
   ]
  },
  {
   "cell_type": "markdown",
   "metadata": {},
   "source": [
    "Did you have your voila moment? :D"
   ]
  },
  {
   "cell_type": "code",
   "execution_count": null,
   "metadata": {
    "collapsed": true
   },
   "outputs": [],
   "source": []
  }
 ],
 "metadata": {
  "kernelspec": {
   "display_name": "Python 2",
   "language": "python",
   "name": "python2"
  },
  "language_info": {
   "codemirror_mode": {
    "name": "ipython",
    "version": 2
   },
   "file_extension": ".py",
   "mimetype": "text/x-python",
   "name": "python",
   "nbconvert_exporter": "python",
   "pygments_lexer": "ipython2",
   "version": "2.7.11"
  }
 },
 "nbformat": 4,
 "nbformat_minor": 0
}
