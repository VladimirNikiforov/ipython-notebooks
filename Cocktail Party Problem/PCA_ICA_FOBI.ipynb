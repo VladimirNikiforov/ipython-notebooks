{
 "cells": [
  {
   "cell_type": "markdown",
   "metadata": {
    "collapsed": true
   },
   "source": [
    "This is an [jupyter](http://jupyter.org) notebook.\n",
    "Lectures about Python, useful both for beginners and experts, can be found at http://scipy-lectures.github.io.\n",
    "\n",
    "Open the notebook by (1) copying this file into a directory, (2) in that directory typing \n",
    "jupyter-notebook\n",
    "and (3) selecting the notebook."
   ]
  },
  {
   "cell_type": "markdown",
   "metadata": {},
   "source": [
    "# <font color= 'blue'>Blind Source Separation</font>\n",
    "## Independent Component Analysis\n",
    "\n",
    "***\n",
    "A notebook by ***Shashwat Shukla*** and ***Dhruv Ilesh Shah***\n",
    "***\n",
    "\n",
    "In this tutorial we will learn how to solve the Cocktail Party Problem using Independent Component Analysis(ICA).\n",
    "We will first take a look at Principle Component Analysis(PCA). The limitations of PCA will naturally lead to an understanding of ICA does."
   ]
  },
  {
   "cell_type": "markdown",
   "metadata": {},
   "source": [
    "# Overview\n",
    "## The Cocktail Party Problem(CPP)"
   ]
  },
  {
   "cell_type": "markdown",
   "metadata": {},
   "source": [
    "So what is the Cocktail Party Problem? \n",
    "Imagine you are at a party where a lot of different conversations are happening in different parts of the room. As a listener in  the room, you are receiving sound from all of these conversations at the same time. And yet, as humans, we possess the ability to identify different threads of conversation and to focus on any conversation of our choice. How do we do that? And how can we program a computer to do that?\n",
    "So this is essentially the Cocktail Party Problem: Given **m** sources(conversations at the party for example), and some number of sound receivers, separate out the different signals. (We will talk about how many receivers we need later.)\n",
    "\n",
    "We need to make some mathematical assumptions and also phrase the problem more formally.\n",
    "\n",
    "## The data\n",
    "\n",
    "So first of all, our signals here are the sounds coming from different sources. \n",
    "At every (uniformly spaced) discrete interval of time we record **m** samples, one at each of our **m** microphones.\n",
    "\n",
    "Note the implicit assumptions that we have made here:\n",
    "\n",
    "1) There are as many microphoneses as there are independent conversations(sources) going on in the room. This assumption allows us to come up with a method to retrieve all the m independent signals. We can say that our system is **critically determined**(and is not under- or over- determined). Henceforth, we shall only consider this case in the tutorial.\n",
    "\n",
    "2) Each microphone records a reasonably distinct combination of the independent signals. This simply amounts to not keeping two microphones too close to each other. Due to practical computational limits (see floating point math), it is always best to have easily distinguishable recordings. \n",
    "\n",
    "How are we recording this data? We simply record the amplitude of the sound at each instant. Recording the pressure amplitude is a convenient thing to do(and is what a microphone does. A transducer then converts the pressure amplitude to a voltage).\n",
    "Note that we are recording the signals at discrete intervals of time (at a rate assumed to be greater than the Shannon rate)and will be working only in the time domain with these discrete signals.\n",
    "\n",
    "One very important thing: We assume that the sound that any receiver records is a **linear combination** of sounds from the different sources. This is a reasonable assumption to make as pressure adds linearly. Each receiver will receive a different linear combination: If the first receiver is closer to a particular speaker than the second receiver, then the linear weight of this speaker will be proportionately higher for the first receiver.\n",
    "\n",
    "![Cocktail Party Problem](Notebook/cocktail_1.png)\n",
    "\n",
    "\n",
    "We further assume that each source is **statistically independent** with respect to all the other sources. We will look at a mathematical interpretation of statistical independence of two signals later. Within the context of the Cocktail Party parable an intuitive understanding of this assumption follows naturally, as the conversations happening in different parts of the room are independent of each other. Hence, knowing the signal at a particular instant from one source does not allow us to predict the value of the signal from any other source at that instant. They are independent variables.\n",
    "\n",
    "This is the key assumption in Blind Source separation that allows to solve the problem.\n",
    "\n",
    "We are also making one vital assumption about the sources of the signals: that they are non-Gaussian. We will look at what that means and why it matters in the next section. \n",
    "\n",
    "## The math\n",
    "\n",
    "We will index our microphones from **1** to **m**. \n",
    "\n",
    "The signal received by the microphone labelled **i** over the entire time of recording will be denoted by $x_{i}$. A particular sample of this recorded signal, recorded at the time index **j** will then be denoted by $x_{i}^{j}$. \n",
    "\n",
    "Hence, if the samples of the signals recorded over time be **N**, then $x_{i}$ can be seen to be a row vector in **N**-dimensional space. It's jth element is given by $x_{i}^{j}$.\n",
    "\n",
    "We had said that we have **m** microphones. Hence **i** in the above description ranges from **1** to **m**.\n",
    "\n",
    "If we stack up these row vectors, we will get an **m x N** matrix whose ith row corresponds to the samples recorded by a particular microphone. A 'vertical slice' of this matrix, i.e a column corresponds to all the samples recorded at a given instant of time, indexed by the indices of the corresponding microphone.\n",
    "\n",
    "Let us call this data matrix **x**.\n",
    "\n",
    "To reiterate, $x_{i}^{j}$ corresponds to the sound sample recorded by the **i**th mike at the time (indexed by) **j**. \n",
    "\n",
    "Let us now similarly define matrices corresponding to the sources that we wish to finally recover.\n",
    "The indices for the independent sources also go from **1** to **m**.\n",
    "\n",
    "Let $s_{i}$ denote the signal generated by the **i**th independent source that we wish to recover (the **i**th conversation in the room). It is defined as a row vector.\n",
    "\n",
    "$s_{i}^{j}$ is then the **j**th time sample of this signal. \n",
    "\n",
    "Again, we vertically stack up these row vectors to get a **m x N** matrix denoted by **s**.\n",
    "\n",
    "Now that we have defined our data and the signals that we wish to retrieve, we will describe the (assumed) relationship between the two. Note that we had assumed that the independent sources add **linearly** to give the recorded signals. \n",
    "\n",
    "This means that each $x_{i}$ is some linear combination of the vectors $s_{1}$ through $s_{m}$.\n",
    "\n",
    "Putting it all together, we conclude that $x = As$ ; for some **m x m** matrix **A**, called the mixing matrix.\n",
    "\n",
    "Our objective is to then find an \"un-mixing\" matrix **W** that satisfies $s = Wx$.\n",
    "\n",
    "If we know this **W**, as we already have **x**, we can calculate **s** by a direct multiplication. \n",
    "\n",
    "![The Problem](Notebook/cocktail_2.jpg)\n",
    "\n",
    "\n",
    "## Outline of solution\n",
    "\n",
    "Our objective is to find the matrix **W**. As we have assumed that the number of microphones is equal to the number of independent conversations, it turns out that the matrix **A** is invertible and hence **W** is just the inverse of **A**. \\\n",
    "\n",
    "Hence, it suffices to find **A**. We will employ [Singular Value Decomposition(SVD)](https://www.wikiwand.com/en/Singular_value_decomposition) on the matrix **A**.\n",
    "\n",
    "Hence, $A = UDV$ for orthogonal matrices **U**, **V** and diagonal matrix **D**. \n",
    "\n",
    "We will then determine each of **U**, **D**, **V** by considering the covariance matrix of **x** and exploiting the independence of the source signals.\n",
    "\n",
    "The details follow.\n"
   ]
  },
  {
   "cell_type": "code",
   "execution_count": null,
   "metadata": {
    "collapsed": true
   },
   "outputs": [],
   "source": []
  }
 ],
 "metadata": {
  "anaconda-cloud": {},
  "kernelspec": {
   "display_name": "Python [Root]",
   "language": "python",
   "name": "Python [Root]"
  },
  "language_info": {
   "codemirror_mode": {
    "name": "ipython",
    "version": 2
   },
   "file_extension": ".py",
   "mimetype": "text/x-python",
   "name": "python",
   "nbconvert_exporter": "python",
   "pygments_lexer": "ipython2",
   "version": "2.7.11"
  }
 },
 "nbformat": 4,
 "nbformat_minor": 0
}
