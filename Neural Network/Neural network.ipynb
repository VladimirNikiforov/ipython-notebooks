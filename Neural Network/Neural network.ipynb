{
 "cells": [
  {
   "cell_type": "markdown",
   "metadata": {},
   "source": [
    "# _Neural Networks_"
   ]
  },
  {
   "cell_type": "markdown",
   "metadata": {},
   "source": [
    "This is an [jupyter](http://jupyter.org) notebook.\n",
    "Lectures about Python, useful both for beginners and experts, can be found at http://scipy-lectures.github.io."
   ]
  },
  {
   "cell_type": "markdown",
   "metadata": {},
   "source": [
    "Open the notebook by (1) copying this file into a directory, (2) in that directory typing \n",
    "jupyter-notebook\n",
    "and (3) selecting the notebook.\n",
    "\n",
    "***\n",
    "Written By: **Riddhish Bhalodia**\n",
    "***\n",
    "\n",
    "In this exercise, we will learn about different neural network concepts. There are few prerequisites of probability and machine learning.\n",
    "\n",
    "__Dependencies__: numpy, matplotlib, xlrd (https://github.com/python-excel/xlrd) , scikit-learn"
   ]
  },
  {
   "cell_type": "markdown",
   "metadata": {},
   "source": [
    "## The Perceptron Algorithm"
   ]
  },
  {
   "cell_type": "markdown",
   "metadata": {},
   "source": [
    "It is one of the example of a linear discriminant model and used for two-class clustering / separation. In this model the input bector **x** is transformed using a fixed non-linear transformation. So starting from generalized model of linear regression we have\n",
    "\n",
    "$$ y(\\textbf{x}) = \\textbf{w}^T\\phi(\\textbf{x})$$\n",
    "\n",
    "Now in perceptron all we do is pass this linear regression model through a non-linear activation function as follows\n",
    "\n",
    "$$y(\\textbf{x}) = f(\\textbf{w}^T\\phi(\\textbf{x})) \\quad \\quad \\quad (1)$$\n",
    "\n",
    "Here, $f(.)$ is given by \n",
    "$$\n",
    "f(a) = \\left\\{\n",
    "  \\begin{array}{ll}\n",
    "  -1 & \\quad a < 0 \\\\\n",
    "   1 & \\quad a \\geq 0\n",
    "   \\end{array}\n",
    "   \\right.\n",
    "$$\n",
    "\n",
    "Now, as we have two classes $\\mathcal{C}_1$ and $\\mathcal{C}_2$ so we define a <u>target variable t</u> which takes the values +1 and -1 for $\\mathcal{C}_1$ and $\\mathcal{C}_2$ respectively. Now we need to determine the parameters **w**, for that we need to define an error function which we have to minimize.\n",
    "\n",
    "A natural choice for the error function is total number of misclassified patterns, however this causes some problems in the learning algorithm. Hence we propose an alternate error function called the *perceptron criterion* given by \n",
    "\n",
    "$$ E_p(\\textbf{w}) = - \\sum \\limits _{n \\in \\mathcal{M}} \\textbf{w}^T \\phi (\\textbf{x}_n) t_n \\quad \\quad \\quad (2)$$\n",
    "\n",
    "Here, $\\mathcal{M}$ denotes the set of all the misclassified patterns, the reasoning behind this functional can be found Christopher M Bishop's book [here](http://www.springer.com/gp/book/9780387310732) :D"
   ]
  },
  {
   "cell_type": "markdown",
   "metadata": {},
   "source": [
    "### Trivial example\n",
    "\n",
    "Here we will simplate a trivial example in the case of a 2D data within the space [-1,1] x [-1,1], and we will asumme that $\\phi(x_n) = x_n \\quad \\forall x_n$. We first need to generate the data"
   ]
  },
  {
   "cell_type": "code",
   "execution_count": 13,
   "metadata": {
    "collapsed": false
   },
   "outputs": [],
   "source": [
    "%matplotlib inline\n",
    "\n",
    "import numpy as np\n",
    "import scipy as sp\n",
    "import matplotlib.pyplot as plt\n",
    "\n",
    "# now we genrate the data\n",
    "N = 30\n",
    "x = np.zeros(N, dtype=np.float64)\n",
    "y = np.zeros(N, dtype=np.float64)\n",
    "for k in range(N):\n",
    "    x[k], y[k] = [np.random.uniform(-1,1) for i in range(2)]\n",
    "    \n",
    "a = np.random.uniform(-1,1)\n",
    "b = np.random.uniform(-1,1)\n",
    "c = np.random.uniform(-1,1)\n",
    "label = np.ones(N) # stores the labels for two classes, 1 for C1 and -1 for C2\n",
    "xa = []\n",
    "ya = []\n",
    "xb = []\n",
    "yb = []\n",
    "N1 = 0\n",
    "N2 = 0\n",
    "\n",
    "# the random line divides the points into two classes of size N1 and N2\n",
    "for k in range(N):\n",
    "    temp = a*x[k] + b*y[k] + c\n",
    "    if temp > 0:\n",
    "        xa.append(x[k])\n",
    "        ya.append(y[k])\n",
    "        N1 += 1\n",
    "    else:\n",
    "        label[k] = -1\n",
    "        xb.append(x[k])\n",
    "        yb.append(y[k])\n",
    "        N2 += 1"
   ]
  },
  {
   "cell_type": "markdown",
   "metadata": {},
   "source": [
    "Now we plot the two classes as a scatter plot!"
   ]
  },
  {
   "cell_type": "code",
   "execution_count": 14,
   "metadata": {
    "collapsed": false,
    "scrolled": true
   },
   "outputs": [
    {
     "data": {
      "text/plain": [
       "<matplotlib.text.Text at 0x104dd1310>"
      ]
     },
     "execution_count": 14,
     "metadata": {},
     "output_type": "execute_result"
    },
    {
     "data": {
      "image/png": "[encoded data removed]",
      "text/plain": [
       "<matplotlib.figure.Figure at 0x104d8e790>"
      ]
     },
     "metadata": {},
     "output_type": "display_data"
    }
   ],
   "source": [
    "plt.scatter(xa, ya, color = 'b')\n",
    "plt.hold(True)\n",
    "plt.scatter(xb, yb, color = 'r')\n",
    "plt.title('Scatter plot of the data, N = 30')"
   ]
  },
  {
   "cell_type": "markdown",
   "metadata": {},
   "source": [
    "Now we want to classify this synthetic data using the perceptron model which will be trained using this data, and then we will test using the same data (this is called, self classification test). To proceed further we first need to train our perceptron model using the theory above.\n",
    "\n",
    "Here the dimention of weight vector $\\textbf{w}$ is 3 (as we just need to estimate a line). So we initilize the parameters as ones. "
   ]
  },
  {
   "cell_type": "code",
   "execution_count": 15,
   "metadata": {
    "collapsed": false
   },
   "outputs": [],
   "source": [
    "w = np.ones(3, dtype=np.float64) # the weights\n",
    "iter_max = 2000 # maximum number of iterations\n",
    "error = 1000.0 # randomly initilize the classification error\n",
    "it = 0 # variable to store the iteration number\n",
    "eta = 0.001 # the step size (try varying this)\n",
    "classified_labels = np.ones(N)"
   ]
  },
  {
   "cell_type": "markdown",
   "metadata": {},
   "source": [
    "Now how do we solve for the parameters. Easy, we apply simple gradient descent on the _objective function_ (the function of the parameters to be estimated, which is to be minimized). So we take the derivative of the equation (2) and we get\n",
    "\n",
    "$$ \\textbf{w}^{(l+1)} = \\textbf{w}^{(l)} + \\eta \\sum \\limits_{n \\in \\mathcal{M}} \\phi (\\textbf{x}_n) t_n $$\n",
    "\n",
    "So now we start coding the actual parameter estimation part. "
   ]
  },
  {
   "cell_type": "code",
   "execution_count": 16,
   "metadata": {
    "collapsed": false
   },
   "outputs": [
    {
     "name": "stdout",
     "output_type": "stream",
     "text": [
      "Done!\n"
     ]
    }
   ],
   "source": [
    "while (error != 0 and it < iter_max):\n",
    "    # Update Rules\n",
    "    temp_vec = np.zeros(3, dtype=np.float64)\n",
    "    temp = np.zeros(3, dtype=np.float64)\n",
    "    for i in range(N):\n",
    "        if label[i] != classified_labels[i]:\n",
    "            temp += eta * np.array([x[i], y[i], 1]) * label[i]\n",
    "    w += temp\n",
    "    # recompute the classification\n",
    "    for i in range(N):\n",
    "        temp1 = w[0]*x[i] + w[1]*y[i] + w[2]\n",
    "        if temp1 > 0:\n",
    "            classified_labels[i] = 1\n",
    "        else:\n",
    "            classified_labels[i] = -1\n",
    "            \n",
    "    # compute the misclassification error\n",
    "    error = 0\n",
    "    for i in range(N):\n",
    "        temp1 = w[0]*x[i] + w[1]*y[i] + w[2]\n",
    "        if label[i] != classified_labels[i]:\n",
    "            error += - label[i] * temp1\n",
    "    \n",
    "    w = w / np.linalg.norm(w, ord=2)\n",
    "    it +=1\n",
    "\n",
    "print(\"Done!\")"
   ]
  },
  {
   "cell_type": "code",
   "execution_count": 17,
   "metadata": {
    "collapsed": false
   },
   "outputs": [
    {
     "data": {
      "text/plain": [
       "<matplotlib.text.Text at 0x104f5e350>"
      ]
     },
     "execution_count": 17,
     "metadata": {},
     "output_type": "execute_result"
    },
    {
     "data": {
      "image/png": "[encoded data removed]",
      "text/plain": [
       "<matplotlib.figure.Figure at 0x104a5c750>"
      ]
     },
     "metadata": {},
     "output_type": "display_data"
    }
   ],
   "source": [
    "x = np.linspace(-1,1,100)\n",
    "y = -(w[0] * x + w[2]) / w[1]\n",
    "plt.scatter(xa, ya, color = 'b')\n",
    "plt.hold(True)\n",
    "plt.scatter(xb, yb, color = 'r')\n",
    "plt.plot(x,y, color='k')\n",
    "plt.title('Perceptron classified data (the line)')"
   ]
  },
  {
   "cell_type": "markdown",
   "metadata": {},
   "source": [
    "We can see that this perceptron model classifies the data very well :) lest check how close the weights are to the actual line we took to generate the data"
   ]
  },
  {
   "cell_type": "code",
   "execution_count": 18,
   "metadata": {
    "collapsed": false
   },
   "outputs": [
    {
     "data": {
      "text/plain": [
       "<matplotlib.legend.Legend at 0x1050c2690>"
      ]
     },
     "execution_count": 18,
     "metadata": {},
     "output_type": "execute_result"
    },
    {
     "data": {
      "image/png": "[encoded data removed]",
      "text/plain": [
       "<matplotlib.figure.Figure at 0x104f4ba10>"
      ]
     },
     "metadata": {},
     "output_type": "display_data"
    }
   ],
   "source": [
    "x = np.linspace(-1,1,100)\n",
    "y = -(w[0] * x + w[2]) / w[1]\n",
    "plt.plot(x,y,color='b')\n",
    "x = np.linspace(-1,1,100)\n",
    "y = -(a * x + c) / b\n",
    "plt.hold(True)\n",
    "plt.plot(x,y,color='r')\n",
    "plt.legend(['predicted', 'original'])"
   ]
  },
  {
   "cell_type": "markdown",
   "metadata": {},
   "source": [
    "Try changing the N and see how the prediction changes! Now we will move on to see how this will help us in neural networks. Also if the system does not work, then try changing the eta and iterations (they may need to be tuned as we are generating different random data each time). Also the lines need not be equal as the same partition can be achieved with different lines :)"
   ]
  },
  {
   "cell_type": "markdown",
   "metadata": {
    "collapsed": true
   },
   "source": [
    "## Multilayer Perceptron"
   ]
  },
  {
   "cell_type": "markdown",
   "metadata": {},
   "source": [
    "### Brief Intro to Neural Networks\n",
    "\n",
    "In very short and sweet terms neural networks aims at making mathematical constructs for information processing mimicing biological systems. Disregarding several constraints that actual biological construct gives us, we can use the core idea of neural networks for many pattern recognition applications, the following aspects of the theory are taken from Christopher Bishop's book."
   ]
  },
  {
   "cell_type": "markdown",
   "metadata": {},
   "source": [
    "### The most basic.."
   ]
  },
  {
   "cell_type": "markdown",
   "metadata": {},
   "source": [
    "The _multilayer perceptron_ that we are going to discuss now is one of the most simplest and widely used models for neural networks, it's also known as _Feed Forward Networks_. \n",
    "The goal is to extend the regression model by making the $\\phi (x_j)$ depend on some parameters which are to be estimated along with the set of weights $\\{w\\}_j$. So by (3) we now use simple linear comination to describe the neural network in terms of series of functional transformations\n",
    "\n",
    "(A) M linear combinations of the inputs $(x_1,...,x_D)$ to generate activations\n",
    "\n",
    "$$a_j = \\sum \\limits_{i=1}^D w_{ji}^{(1)}x_i + w_{j0}^{(1)} \\quad \\quad \\quad (3)$$\n",
    "\n",
    "The superscript (1) denotes the first layer of the neural network.\n",
    "\n",
    "(B) Transformation of activations by a _differentiable, non-linear activation function_ h(.)\n",
    "\n",
    "$$z_i = h(a_i) \\quad \\quad \\quad (4)$$\n",
    "\n",
    "these $z_i$ are the _hidden units_ and the two equations (3) and (4) combine to what looks like a perceptron model. \n",
    "\n",
    "(C) Similar to inputs we have output activations which are constructed by linearly combining the hidden units\n",
    "\n",
    "$$a_k = \\sum \\limits_{j=1}^{M} w_{kj}^{(2)}z_j + w_{k0}^{(2)} \\quad \\quad \\quad (5)$$\n",
    "\n",
    "(D) Lastly the output activations passed through a non-linear activation function gives the network outputs\n",
    "\n",
    "$$y_k = \\sigma (a_k) \\quad \\quad \\quad (6)$$\n",
    "\n",
    "These steps can be represented as the following figure "
   ]
  },
  {
   "cell_type": "markdown",
   "metadata": {},
   "source": [
    " <figure>\n",
    "  <img src=\"neural_net.jpg\" width=\"404\" height=\"328\">\n",
    "  <figcaption><center>Fig1. - Two hidden layer neural network (example of multi-layer perceptron)</center></figcaption>\n",
    "</figure>"
   ]
  },
  {
   "cell_type": "markdown",
   "metadata": {},
   "source": [
    "The model is _forward propogating_, and once we put the $x_0 = 1$ and join the bias weight to the set of weights we can see why this looks like a multilayer perceptron model. The key difference is that hidded units use continious (sigmoidal) non-linearities which makes the overall network function (by combimining all the steps) differetiable wrt the parameters, which helps in smooth training as we will see further.\n",
    "\n",
    "Now all we need to do to train this model is the following two steps (this is true for most of the cases)\n",
    "* Find the gradient of the error function wrt to the paramenters\n",
    "* Update the parameters using an update scheme (we usually use gradient descent for this)\n",
    "\n",
    "Well the trouble is a first step, we need to come up with an efficient way to compute the gradients of the neural network, for this be will use an algorithm whic is used in normal network to transmit messages backword and forward, and it's called **backward propogation** or **backpropogation**"
   ]
  },
  {
   "cell_type": "markdown",
   "metadata": {
    "collapsed": true
   },
   "source": [
    "## Error Back Propogation"
   ]
  },
  {
   "cell_type": "markdown",
   "metadata": {},
   "source": [
    "_Goal is to have an efficient technique to compute gradients of the error functionals effectively, which when used with gradient descent allows us to train the neural network_\n",
    "\n",
    "We will derive the back propogation algorithm for a general network having a arbitary _feed-forward topology_ and arbitary _non-linear differentiable activation functions_.\n",
    "\n",
    "The error function defined by maximum likelihood estimate for i.i.d data is a sum of individual error functions!\n",
    "\n",
    "$$E(\\textbf{w}) = \\sum \\limits_{n=1}^N E_n(\\textbf{w}) \\quad \\quad \\quad (7)$$"
   ]
  },
  {
   "cell_type": "markdown",
   "metadata": {},
   "source": [
    "In a general feed-forward network the each hidden unit computes a weighted sum of it's inputs in the form\n",
    "\n",
    "$$a_j = \\sum \\limits_i w_{ji}z_i \\quad \\quad \\quad (8)$$\n",
    "\n",
    "$z_i$ is activation of inputs / units which sends connection to unit j and $w_{ji}$ is weight of that connection. Now h(.) is a non-linear function which computes the activations of the next layer. Vizualize this as a network\n",
    "\n",
    "$$z_j = h(a_j) \\quad \\quad \\quad (9)$$\n",
    "\n",
    "Now moving into the actual training phase, for each pattern in the training set we shall suppose we have all the input vectors and activations already computed (this process in called _forward propogation_).\n",
    "So computing gradients we take the derivative of $E_n$ wrt $w_{ji}$\n",
    "\n",
    "$$\\frac{\\partial E_n}{\\partial w_{ji}} = \\frac{\\partial E_n}{\\partial a_j}\\frac{\\partial a_j}{\\partial w_{ji}} \\quad \\quad \\quad (10)$$\n",
    "\n",
    "Lets name $\\delta_j = \\frac{\\partial E_n}{\\partial a_j}$, these $\\delta_j$ are called _errors_. On top of this we know that from eq (8) $\\frac{\\partial a_j}{\\partial w_{ji}} = z_i$. Hence, we have\n",
    "\n",
    "$$\\frac{\\partial E_n}{\\partial w_{ji}} = \\delta_j z_i \\quad \\quad \\quad (11)$$\n",
    "\n",
    "Now for computing the gradient we only need to find the errors ($\\delta_j$) for output and hidden units. For the output units we have (think about this intuitively)\n",
    "\n",
    "$$\\delta_k = y_k - t_k \\quad \\quad \\quad (12)$$\n"
   ]
  },
  {
   "cell_type": "markdown",
   "metadata": {
    "collapsed": true
   },
   "source": [
    "Now let us vizualize how our network looks like again\n",
    "<figure>\n",
    "<img src=\"net.png\"></img>\n",
    "<figcaption><center>Fig2. - Error flow along the network</center></figcaption>\n",
    "</figure>\n",
    "By this the hidden units will be of the form \n",
    "\n",
    "$$\\delta_j = \\frac{\\partial E_n}{\\partial a_j} = \\sum \\limits_{k} \\frac{\\partial E_n}{\\partial a_k} \\frac{\\partial a_k}{\\partial a_j} \\quad \\quad \\quad (13)$$\n",
    "\n",
    "This means that the variations in of $a_j$ give rise to the variations in the error function only through the variations in variable $a_k$.\n",
    "Now by using equations (13), (8) and (9) we can arrive at the _backpropogation formula_\n",
    "***\n",
    "$$ \\delta_j = h'(a_j)\\sum \\limits_{k} w_{kj}\\delta_k \\quad \\quad \\quad (14)$$\n",
    "***"
   ]
  },
  {
   "cell_type": "markdown",
   "metadata": {},
   "source": [
    "### Summary\n",
    "\n",
    "1) Apply the input vector $x_n$ to network and forward propogate to find all the activations of all the hidden units and output units\n",
    "\n",
    "2) Evaluate $\\delta_k$ for all output units by equation 12\n",
    "\n",
    "3) Back propogate the $\\delta$'s by equation 14, getting $\\delta_i$ for each hidden unit\n",
    "\n",
    "4) Use $\\frac{\\partial E_n}{\\partial w_{ji}} = \\delta_j z_i$ to compute derivatives"
   ]
  },
  {
   "cell_type": "markdown",
   "metadata": {},
   "source": [
    "It's a fairly intuitive algorithm once you understand that how the error \"flows\" backward from the network. So we will start implementing this now, but first let me describe the application.\n",
    "\n",
    "We will implement a simple _two layer neural network_ (one hidden layer as in Fig 1) in form of a class that then can be used for several applications! Also we will have the output activation function as identity, i.e. $y_k = a_k$, and the hidden layer activation function as \n",
    "\n",
    "$h(a) = tanh(a) = \\frac{e^a - e^{-a}}{e^a + e^{-a}}$\n",
    "\n",
    "So let's get started! First we define some simple functions for computing the activation function and it's derivative\n",
    "In the last application we will use sigmoid function as activation so we define that too (check the defination online)"
   ]
  },
  {
   "cell_type": "code",
   "execution_count": 19,
   "metadata": {
    "collapsed": true
   },
   "outputs": [],
   "source": [
    "def tanh(x):\n",
    "    return np.tanh(x)\n",
    "\n",
    "def tanh_derv(x):\n",
    "    # work the math out\n",
    "    return 1.0 - np.tanh(x)**2"
   ]
  },
  {
   "cell_type": "markdown",
   "metadata": {},
   "source": [
    "Now lets start with the class definition"
   ]
  },
  {
   "cell_type": "markdown",
   "metadata": {},
   "source": [
    "So essentially the weights in the class is the list of arrays of weights between two layers, for example if the layers = [2,3,2], that will result in the figure 1 exactly. we will have weights[0] = 3x4 matrix and weights[1] = 4x2 matrix (refer to the figure one and see how this makes sense).\n",
    "\n",
    "Now we move to training this neural network, where we will apply an algorithm called _stochastic gradient descent_ its is same as standard gradient descent except for the fact that it makes an update to the weight vector using a single data point at a time. These data points are either selected by cycling through the data or choosing randomly. So we have\n",
    "\n",
    "$$\\textbf{w}^{(\\tau + 1)} = \\textbf{w}^{(\\tau)} - \\eta \\nabla E_n(\\textbf{w}^{(\\tau)}) \\quad \\quad \\quad (15)$$\n",
    "\n",
    "So now using the above information we can substitute the value of the gradient we found by back propogation in the stochastic gradient equation. This is what we will use to write the training function for the class."
   ]
  },
  {
   "cell_type": "code",
   "execution_count": 20,
   "metadata": {
    "collapsed": false
   },
   "outputs": [],
   "source": [
    "class neural_network:\n",
    "    def __init__(self, layers):\n",
    "        \"\"\"\n",
    "        layers: A list containing the number of units in each layer.\n",
    "                Should be at least two values (this also includes the input layer)\n",
    "        actfn : String to select the type of activation function\n",
    "        \"\"\"\n",
    "        \n",
    "        self.act_fn = tanh # the activation function of the hidden layers\n",
    "        self.act_fn_derv = tanh_derv # the derivative of the activation function of the hidden layers\n",
    "        \n",
    "        self.weights = [] # list of the weights\n",
    "        # now we need to initialize these weights\n",
    "        # We have to keep in mind that every layer except for the output will have one extra bias unit\n",
    "        # we initialize the weights randomly between [-0.5,0.5]\n",
    "        \n",
    "        for i in range(1,len(layers) - 1):\n",
    "            self.weights.append(0.5 * (2 * np.random.random([layers[i-1] + 1, layers[i] + 1]) - 1))\n",
    "        \n",
    "        # and for between the last hidden layer and the output layer\n",
    "        self.weights.append(0.5 * (2 * np.random.random([layers[i] + 1, layers[i + 1]]) - 1))\n",
    "    \n",
    "    # This is the training function\n",
    "    def train(self, X, t, eta = 0.05, max_iter = 10000):\n",
    "        \"\"\"\n",
    "        X: Training data input set X = Nxdi, di= dimension of the input data > 1, N = number of data points\n",
    "        t: Training data output set, t = Nxdo , do = dimension of the output data\n",
    "        eta : double\n",
    "            it is the step size for the stochastic gradient descent\n",
    "        max_iter : int\n",
    "            Number of iterations of the gradient descent\n",
    "        \"\"\"\n",
    "        \n",
    "        # first we need to add another unit to the input\n",
    "        # as the input we have provided does not have a \n",
    "        # bias input (which we set as one)\n",
    "        X = np.atleast_2d(X) # google this command! it's just for smooth computation of matrices\n",
    "        temp = np.ones((X.shape[0], X.shape[1] + 1))\n",
    "        temp[:, 0:X.shape[1]] = X\n",
    "        X = temp\n",
    "        \n",
    "        # Now for the stochastic gradient descent iterations\n",
    "        \n",
    "        for k in range(max_iter):\n",
    "            # choose one of the input randomly (which is what we do in the stochastic gradient descent)\n",
    "            i = np.random.randint(X.shape[0]) \n",
    "            # First the forward pass to get all the estimates\n",
    "            a = [X[i]] # this is the input we will use, it will also store all the activations and inputs\n",
    "            # for each hidden + output layer\n",
    "            for j in range(len(self.weights)):\n",
    "                # get the units and pass them through activation function\n",
    "                z = self.act_fn(a[j].dot(self.weights[j]))\n",
    "                # append to the activation list\n",
    "                a.append(z)\n",
    "                \n",
    "            # compute the error from the target data\n",
    "            err = t[i] - a[-1] # the -1 gives the last element = output of the net\n",
    "            \n",
    "            # Backward pass to estimate all deltas\n",
    "            \n",
    "            # first generate a list of delts for each layer \n",
    "            deltas = [err * self.act_fn_derv(a[-1])] # this is by combining eq(12) and (14)\n",
    "            \n",
    "            # we start from the second to last layer and go till the input (backward is the word)\n",
    "            for j in range(len(a) - 2, 0, -1): \n",
    "                # first apply backpropogation formula (14)\n",
    "                bp = self.act_fn_derv(a[j]) * deltas[-1].dot(np.transpose(self.weights[j]))\n",
    "                # now append it to deltas\n",
    "                deltas.append(bp)\n",
    "            \n",
    "            # the deltas are in from output to input order so we reverse it\n",
    "            deltas.reverse()\n",
    "            # compute the gradient and apply the update\n",
    "            for j in range(len(self.weights)):\n",
    "                # Some precessing for the product computation and robustness, google the command atleast_2d\n",
    "                frl = np.atleast_2d(a[j])\n",
    "                bwl = np.atleast_2d(deltas[j])\n",
    "                # Application of equation (11) and (15)\n",
    "                self.weights[j] += eta * np.transpose(frl).dot(bwl)\n",
    "                \n",
    "    # now the prediction step\n",
    "    def predict_out(self, x):\n",
    "        \"\"\"\n",
    "        x: The input data to which we have to give the output\n",
    "        \"\"\"\n",
    "        # this is a simple forward pass like w did in the training except just the output is needed\n",
    "        x = np.array(x)\n",
    "        temp = np.ones(x.shape[0] + 1)\n",
    "        temp[0:x.shape[0]] = x\n",
    "        a = temp\n",
    "        for j in range(len(self.weights)):\n",
    "            a = self.act_fn(a.dot(self.weights[j]))\n",
    "            \n",
    "        return a"
   ]
  },
  {
   "cell_type": "markdown",
   "metadata": {},
   "source": [
    "Now that concludes our code for a general neural network! Now let us look how it works, first lets take a very simple example."
   ]
  },
  {
   "cell_type": "markdown",
   "metadata": {},
   "source": [
    "## The Standard XOR implementation\n",
    "\n",
    "I leave it to the reader to figure out why does the simple single layer perceptron model will not work for XOR (google is your friend here, plus here is a [reference](http://computing.dcu.ie/~humphrys/Notes/Neural/single.neural.html)).\n",
    "\n",
    "So we have a three(input - hidden - output) layer neural network for solving the logical XOR, so lets get right onto it.\n",
    "\n",
    "<figure>\n",
    "<img src=\"xor.jpeg\"></img>\n",
    "<figcaption><center>Fig3. - XOR Logical function and gate</center></figcaption>\n",
    "</figure>"
   ]
  },
  {
   "cell_type": "code",
   "execution_count": 21,
   "metadata": {
    "collapsed": false
   },
   "outputs": [
    {
     "name": "stdout",
     "output_type": "stream",
     "text": [
      "([0, 0], array([ 0.0020483]))\n",
      "([0, 1], array([ 0.98567016]))\n",
      "([1, 0], array([ 0.99091259]))\n",
      "([1, 1], array([ 0.00544201]))\n"
     ]
    }
   ],
   "source": [
    "nn = neural_network([2,2,1])\n",
    "inputs = np.array([[0, 0], [0, 1], [1, 0], [1, 1]])\n",
    "targets = np.array([0, 1, 1, 0])\n",
    "\n",
    "# now train on this data\n",
    "nn.train(inputs, targets)\n",
    "for i in [[0, 0], [0, 1], [1, 0], [1,1]]:\n",
    "    print(i,nn.predict_out(i))"
   ]
  },
  {
   "cell_type": "markdown",
   "metadata": {},
   "source": [
    "We see this works pretty well where the perceptron totally fails! Now lets do something more challanging.\n",
    "\n",
    "## The simulated data sectioned with non-linear function\n",
    "\n",
    "We again generate the data but now not linerealy separated, so lets first do that"
   ]
  },
  {
   "cell_type": "code",
   "execution_count": 22,
   "metadata": {
    "collapsed": false
   },
   "outputs": [
    {
     "data": {
      "text/plain": [
       "<matplotlib.text.Text at 0x1051d0cd0>"
      ]
     },
     "execution_count": 22,
     "metadata": {},
     "output_type": "execute_result"
    },
    {
     "data": {
      "image/png": "[encoded data removed]",
      "text/plain": [
       "<matplotlib.figure.Figure at 0x1050fb710>"
      ]
     },
     "metadata": {},
     "output_type": "display_data"
    }
   ],
   "source": [
    "N = 1000\n",
    "x = np.zeros(N, dtype=np.float64)\n",
    "y = np.zeros(N, dtype=np.float64)\n",
    "for k in range(N):\n",
    "    x[k], y[k] = [np.random.uniform(-1,1) for i in range(2)]\n",
    "    \n",
    "label = np.ones(N) # stores the labels for two classes, 1 for C1 and -1 for C2\n",
    "xa = []\n",
    "ya = []\n",
    "xb = []\n",
    "yb = []\n",
    "N1 = 0\n",
    "N2 = 0\n",
    "\n",
    "# lets take the function y = 2x^2 - 1 to divide the points\n",
    "for k in range(N): \n",
    "    temp = y[k] - 2*x[k]**2 + 1\n",
    "    if temp > 0:\n",
    "        xa.append(x[k])\n",
    "        ya.append(y[k])\n",
    "        N1 += 1\n",
    "    else:\n",
    "        label[k] = -1\n",
    "        xb.append(x[k])\n",
    "        yb.append(y[k])\n",
    "        N2 += 1\n",
    "        \n",
    "plt.scatter(xa, ya, color = 'b')\n",
    "plt.hold(True)\n",
    "plt.scatter(xb, yb, color = 'r')\n",
    "plt.title('Scatter plot of the data, N = 500')"
   ]
  },
  {
   "cell_type": "markdown",
   "metadata": {},
   "source": [
    "Now lets try to apply again the three layer neural network to make the classification and see how the self and cross classification error comes into play.\n",
    "\n",
    "We work with self classification here, if one wants to modify the implementation of cross validation, the choose random 10% of the data to be kept as testing and train the model on remaining 90%, and then compare the classification accuracy."
   ]
  },
  {
   "cell_type": "code",
   "execution_count": 23,
   "metadata": {
    "collapsed": false
   },
   "outputs": [
    {
     "data": {
      "text/plain": [
       "<matplotlib.text.Text at 0x10530e190>"
      ]
     },
     "execution_count": 23,
     "metadata": {},
     "output_type": "execute_result"
    },
    {
     "data": {
      "image/png": "[encoded data removed]",
      "text/plain": [
       "<matplotlib.figure.Figure at 0x104c5a650>"
      ]
     },
     "metadata": {},
     "output_type": "display_data"
    }
   ],
   "source": [
    "nn = neural_network([2, 2, 1])\n",
    "inputs = np.zeros([N, 2])\n",
    "inputs[:,0] = x\n",
    "inputs[:,1] = y\n",
    "nn.train(inputs, label, eta = 0.05)\n",
    "labelout = np.ones(N)\n",
    "xao = []\n",
    "yao = []\n",
    "xbo = []\n",
    "ybo = []\n",
    "for i in range(N):\n",
    "    out = nn.predict_out(inputs[i,:])\n",
    "    if(out > 0):\n",
    "        xao.append(inputs[i,0])\n",
    "        yao.append(inputs[i,1])\n",
    "    else:\n",
    "        xbo.append(inputs[i,0])\n",
    "        ybo.append(inputs[i,1])\n",
    "        labelout[i] = -1\n",
    "        \n",
    "plt.scatter(xao, yao, color = 'b')\n",
    "plt.hold(True)\n",
    "plt.scatter(xbo, ybo, color = 'r')\n",
    "plt.title('Scatter plot of output')"
   ]
  },
  {
   "cell_type": "markdown",
   "metadata": {},
   "source": [
    "The plot looks really similar, we compute the classification error by absolute difference between two label maps"
   ]
  },
  {
   "cell_type": "code",
   "execution_count": 24,
   "metadata": {
    "collapsed": false
   },
   "outputs": [
    {
     "name": "stdout",
     "output_type": "stream",
     "text": [
      "('Self Classification Error = ', 0.080000000000000002)\n"
     ]
    }
   ],
   "source": [
    "# Self classification error\n",
    "err = np.sum(np.abs(label - labelout))\n",
    "err = err / len(label)\n",
    "print('Self Classification Error = ', err)"
   ]
  },
  {
   "cell_type": "markdown",
   "metadata": {},
   "source": [
    "Now these is all simulated talk, let us look at some real life applications of neural networks. There are several things where even basic neural networks makes a lot of impact. People use it for image classification, digit recognition, financial data analysis, time series prediction, weather predtion etc."
   ]
  },
  {
   "cell_type": "markdown",
   "metadata": {},
   "source": [
    "## Real Application! Breast Tissue Classification"
   ]
  },
  {
   "cell_type": "markdown",
   "metadata": {},
   "source": [
    "Breast cancer is one of the major cause for mortality in women, but if detected in earlier stage then there are methods available to cure it. That is why it's imperative that we develop new techniques for it's identifacation and detection. For detection of breast cancer lesion, it's really important that we know in which class does the breast tissue lies in. Hence as a preliminary step if we know the tissue class it would be really helpful, hence we are trying to use neural network to see if we can classify the tissues.\n",
    "\n",
    "First we will need a dataset, and a description of input and output variables\n",
    "We use the dataset given http://archive.ics.uci.edu/ml/datasets/Breast+Tissue (it is in the XLS file along with the notebook)"
   ]
  },
  {
   "cell_type": "markdown",
   "metadata": {},
   "source": [
    "#### Dataset Description\n",
    "\n",
    "There are 106 instances of the data, each having 10 attributes, 9 features + 1 class\n",
    "\n",
    "The output classes of the breast tissues are as follows\n",
    "\n",
    "| Class         | Class attribute | Number of Cases |\n",
    "|---------------|-----------------|-----------------|\n",
    "| Carcinoma     | Car             | 21              |\n",
    "| Fibro-adenoma | Fad             | 15              |\n",
    "| Mastopathy    | Mas             | 18              |\n",
    "| Glandular     | Gla             | 16              |\n",
    "| Connective    | Con             | 14              |\n",
    "| Adipose       | Adi             | 22              |\n",
    "\n",
    "Now all the features(inputs) are listed as follows (in the same order)\n",
    "\n",
    "|Type   | Description                                                      |\n",
    "|-------|------------------------------------------------------------------|\n",
    "|I0\t    |Impedivity (ohm) at zero frequency                                |\n",
    "|PA500\t|Phase angle at 500 KHz                                            |\n",
    "|HFS\t|High-frequency slope of phase angle                               |\n",
    "|DA\t    |Impedance distance between spectral ends                          |\n",
    "|AREA\t|Area under spectrum                                               |\n",
    "|A/DA\t|Area normalized by DA                                             |\n",
    "|MAX IP\t|Maximum of the spectrum                                           |\n",
    "|DR\t    |Distance between I0 and real part of the maximum frequency point  |\n",
    "|P\t    |Length of the spectral curve                                      |\n",
    "\n",
    "A sample data is given like \n",
    "\n",
    "\n",
    "_(1, car, 524.794072, 0.187448362, 0.032114058, 228.8002279, 6843.598481, 29.91080273, 60.20487976, 220.737212, 556.8283342)_\n",
    "\n",
    "Here, the parameters after the _car_ class atrribute are the fetures in order as described in the table above.\n",
    "\n",
    "Now as this is a prediction problem we can use neural network to it's fullest, all we have to worry about is how many layers should we choose and the number of hidden units in each of them . Well as this problem has fairly small number of inputs and outputs a single hidden layer should suffice, and as an emperical rule we should choose between [n, 3n+1] hidden units (n = number of inputs) so let us use 20 hidden units.\n",
    "Also one more thing to keep in mind is we will associate classes with binary numbers for each of the class.\n",
    "\n",
    "But lets first read the xls file and turn it in the format we want for our neural network training, you will need xlrd package for reading the xls file (https://github.com/python-excel/xlrd)"
   ]
  },
  {
   "cell_type": "code",
   "execution_count": 25,
   "metadata": {
    "collapsed": false
   },
   "outputs": [
    {
     "name": "stdout",
     "output_type": "stream",
     "text": [
      "[u'Description', u'Data']\n",
      "('number of rows', 107, 'number of coloumns', 11)\n"
     ]
    }
   ],
   "source": [
    "import xlrd\n",
    "\n",
    "book = xlrd.open_workbook('BreastTissue.xls')\n",
    "# this has two sheets in it first one is of description and the second is data (which is what we want)\n",
    "print(book.sheet_names())\n",
    "sh = book.sheet_by_index(1) # the sheet for data\n",
    "# we see the dimentions\n",
    "print('number of rows', sh.nrows, 'number of coloumns', sh.ncols)\n",
    "# we do not want the 1st row and the first coloumn (SEE THE DATA FILE)\n",
    "# The second coloumn is of the class and the rest are feature points\n",
    "# So we define the input and output\n",
    "\n",
    "X = np.zeros([sh.nrows - 1, sh.ncols - 2]) # input to NN\n",
    "y = np.zeros([sh.nrows - 1 , 6] , dtype=np.float64) # output of NN for training\n",
    "\n",
    "for i in range(1,sh.nrows):\n",
    "    temp = np.str(sh.row(i)[1].value)\n",
    "    if temp == 'car':\n",
    "        y[i-1, 0] = 1\n",
    "    if temp == 'fad':\n",
    "        y[i-1, 1] = 1\n",
    "    if temp == 'mas':\n",
    "        y[i-1, 2] = 1\n",
    "    if temp == 'gla':\n",
    "        y[i-1, 3] = 1\n",
    "    if temp == 'con':\n",
    "        y[i-1, 4] = 1\n",
    "    if temp == 'adi':\n",
    "        y[i-1, 5] = 1\n",
    "    for j in range(2,sh.ncols):\n",
    "        X[i-1,j - 2] = sh.row(i)[j].value"
   ]
  },
  {
   "cell_type": "code",
   "execution_count": null,
   "metadata": {
    "collapsed": false
   },
   "outputs": [],
   "source": [
    "# we also have to normalize the data before using it\n",
    "for i in range(9):\n",
    "    X[:,i] = 1 - (X[:,i] - np.min(X[:,i])) / (np.max(X[:,i]) - np.min(X[:,i]))\n",
    "    "
   ]
  },
  {
   "cell_type": "markdown",
   "metadata": {},
   "source": [
    "We will test the self classification, and see how the test performs. The parameters are set after extreme experimentation :D, change them at own risk :P"
   ]
  },
  {
   "cell_type": "code",
   "execution_count": 35,
   "metadata": {
    "collapsed": false
   },
   "outputs": [
    {
     "name": "stdout",
     "output_type": "stream",
     "text": [
      "('Self Classification numer of misshits out of 106', 37.0)\n"
     ]
    }
   ],
   "source": [
    "nn = neural_network([9, 12, 6])\n",
    "nn.train(X, y, eta = 0.1, max_iter = 100000)\n",
    "misshits = 0\n",
    "# First the self classification error\n",
    "for i in range(X.shape[0]):\n",
    "    temp = nn.predict_out(X[i,:])\n",
    "    temp[temp != np.max(temp)] = 0\n",
    "    temp[temp > 0] = 1\n",
    "    misshits += np.sum(np.abs(temp - y[i,:])) / 2.0 # think why this would be misshits \n",
    "#     print(\"predicted\", temp)\n",
    "#     print(\"actual\", y[i,:])\n",
    "print(\"Self Classification numer of misshits out of 106\", misshits)"
   ]
  },
  {
   "cell_type": "markdown",
   "metadata": {},
   "source": [
    "This classification does not work well, but in neural networks there are many things which can be introduced which will make this system extremely good (one of them is momentum, read it if interested). This same problem is tackled [here](http://neuroph.sourceforge.net/tutorials/BreastTissueClassification/BreastTissueClassification.html) and they use additional things to reach their required accuracy . Also maybe this system works for some other parameters who knows :D. \n",
    "\n",
    "We are now just looking at the misshits, but that does not give us a correct indication of how are the errors due to the neural networks distributed. For this we use something called as a _confusion matrix_ (https://en.wikipedia.org/wiki/Confusion_matrix), it is a simple idea do read the wikipedia article before moving further. So lets construct the confusion matrix!"
   ]
  },
  {
   "cell_type": "code",
   "execution_count": null,
   "metadata": {
    "collapsed": false
   },
   "outputs": [],
   "source": [
    "import sklearn\n",
    "from sklearn.metrics import confusion_matrix\n",
    "\n",
    "# Figure out why our confusion matrix will be of size 6x6\n",
    "predict_arr = []\n",
    "actual_arr = []\n",
    "for i in range(X.shape[0]):\n",
    "    temp = nn.predict_out(X[i,:])\n",
    "    temp[temp != np.max(temp)] = 0\n",
    "    temp[temp > 0] = 1\n",
    "    if temp[0] == 1.0:\n",
    "        predict_arr.append('car')\n",
    "    if temp[1] == 1.0:\n",
    "        predict_arr.append('fad')\n",
    "    if temp[2] == 1.0:\n",
    "        predict_arr.append('mas')\n",
    "    if temp[3] == 1.0:\n",
    "        predict_arr.append('glu')\n",
    "    if temp[4] == 1.0:\n",
    "        predict_arr.append('con')\n",
    "    if temp[5] == 1.0:\n",
    "        predict_arr.append('adi')\n",
    "    \n",
    "    temp = y[i,:]\n",
    "    if temp[0] == 1:\n",
    "        actual_arr.append('car')\n",
    "    if temp[1] == 1:\n",
    "        actual_arr.append('fad')\n",
    "    if temp[2] == 1:\n",
    "        actual_arr.append('mas')\n",
    "    if temp[3] == 1:\n",
    "        actual_arr.append('glu')\n",
    "    if temp[4] == 1:\n",
    "        actual_arr.append('con')\n",
    "    if temp[5] == 1:\n",
    "        actual_arr.append('adi')\n",
    "\n",
    "conf_mat = confusion_matrix(actual_arr, predict_arr, labels = ['car', 'fad', 'mas', 'glu', 'con', 'adi'])\n"
   ]
  },
  {
   "cell_type": "code",
   "execution_count": null,
   "metadata": {
    "collapsed": false
   },
   "outputs": [],
   "source": [
    "conf_mat"
   ]
  },
  {
   "cell_type": "markdown",
   "metadata": {},
   "source": [
    "Lets do some stylish plotting"
   ]
  },
  {
   "cell_type": "code",
   "execution_count": null,
   "metadata": {
    "collapsed": false
   },
   "outputs": [],
   "source": [
    "conf_arr = conf_mat\n",
    "\n",
    "norm_conf = []\n",
    "for i in conf_arr:\n",
    "    a = 0\n",
    "    tmp_arr = []\n",
    "    a = sum(i, 0)\n",
    "    for j in i:\n",
    "        tmp_arr.append(float(j)/float(a))\n",
    "    norm_conf.append(tmp_arr)\n",
    "\n",
    "fig = plt.figure()\n",
    "plt.clf()\n",
    "ax = fig.add_subplot(111)\n",
    "ax.set_aspect(1)\n",
    "res = ax.imshow(np.array(norm_conf), cmap=plt.cm.Spectral, \n",
    "                interpolation='none')\n",
    "ax.grid('off')\n",
    "width, height = np.array(conf_arr).shape\n",
    "\n",
    "for x in xrange(width):\n",
    "    for y in xrange(height):\n",
    "        ax.annotate(str(conf_arr[x][y]), xy=(y, x), \n",
    "                    horizontalalignment='center',\n",
    "                    verticalalignment='center')\n",
    "\n",
    "cb = fig.colorbar(res)\n",
    "alphabet = ['car', 'fad','mas', 'glu', 'con', 'adi']\n",
    "plt.xticks(range(width), alphabet[:width])\n",
    "plt.yticks(range(height), alphabet[:height])"
   ]
  },
  {
   "cell_type": "markdown",
   "metadata": {},
   "source": [
    "There seems to be an pbvious function generation problem as the classes 'fad' and 'mas' are mostly classified as 'glu', so using additional parameters and data in the training this can be fixed. This concludes my attempt at explaining neural networks and multi-layer perceptron algorithm. Maybe I put some more algorithms in neural networks, let's see.\n",
    "\n",
    "~Adios\n",
    "\n",
    "PS: I do hope you guys enjoyed this!"
   ]
  },
  {
   "cell_type": "markdown",
   "metadata": {},
   "source": [
    "## References\n",
    "\n",
    "[1] http://neuroph.sourceforge.net/ for taking project inspiration\n",
    "\n",
    "[2] Jossinet J (1996) Variability of impedivity in normal and pathological breast tissue. Med. & Biol. Eng. &     Comput, 34: 346-350. Silva JE, Marques de Sá JP, Jossinet J (2000) Classification of Breast Tissue by Electrical Impedance Spectroscopy. Med & Bio Eng & Computing, 38:26-30.\n",
    "\n",
    "[3] Lichman, M. (2013). UCI Machine Learning Repository [http://archive.ics.uci.edu/ml]. Irvine, CA: University of California, School of Information and Computer Science\n",
    "\n",
    "[4] All the theory was from Christopher Bishop's Book, \"Pattern Recognition and Machine Learning\""
   ]
  },
  {
   "cell_type": "code",
   "execution_count": null,
   "metadata": {
    "collapsed": true
   },
   "outputs": [],
   "source": []
  }
 ],
 "metadata": {
  "kernelspec": {
   "display_name": "Python 2",
   "language": "python",
   "name": "python2"
  },
  "language_info": {
   "codemirror_mode": {
    "name": "ipython",
    "version": 2
   },
   "file_extension": ".py",
   "mimetype": "text/x-python",
   "name": "python",
   "nbconvert_exporter": "python",
   "pygments_lexer": "ipython2",
   "version": "2.7.11"
  }
 },
 "nbformat": 4,
 "nbformat_minor": 0
}
