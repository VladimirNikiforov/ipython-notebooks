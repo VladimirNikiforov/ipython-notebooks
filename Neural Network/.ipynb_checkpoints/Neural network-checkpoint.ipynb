{
 "cells": [
  {
   "cell_type": "markdown",
   "metadata": {},
   "source": [
    "# _Neural Networks_"
   ]
  },
  {
   "cell_type": "markdown",
   "metadata": {},
   "source": [
    "This is an [jupyter](http://jupyter.org) notebook.\n",
    "Lectures about Python, useful both for beginners and experts, can be found at http://scipy-lectures.github.io."
   ]
  },
  {
   "cell_type": "markdown",
   "metadata": {},
   "source": [
    "Open the notebook by (1) copying this file into a directory, (2) in that directory typing \n",
    "jupyter-notebook\n",
    "and (3) selecting the notebook.\n",
    "\n",
    "***\n",
    "Written By: **Riddhish Bhalodia**\n",
    "***\n",
    "\n",
    "In this exercise, we will learn about different neural network concepts. There are few prerequisites of probability and machine learning."
   ]
  },
  {
   "cell_type": "markdown",
   "metadata": {},
   "source": [
    "## The Perceptron Algorithm"
   ]
  },
  {
   "cell_type": "markdown",
   "metadata": {},
   "source": [
    "It is one of the example of a linear discriminant model and used for two-class clustering / separation. In this model the input bector **x** is transformed using a fixed non-linear transformation. So starting from generalized model of linear regression we have\n",
    "\n",
    "$$ y(\\textbf{x}) = \\textbf{w}^T\\phi(\\textbf{x})$$\n",
    "\n",
    "Now in perceptron all we do is pass this linear regression model through a non-linear activation function as follows\n",
    "\n",
    "$$y(\\textbf{x}) = f(\\textbf{w}^T\\phi(\\textbf{x})) \\quad \\quad \\quad (1)$$\n",
    "\n",
    "Here, $f(.)$ is given by \n",
    "$$\n",
    "f(a) = \\left\\{\n",
    "  \\begin{array}{ll}\n",
    "  -1 & \\quad a < 0 \\\\\n",
    "   1 & \\quad a \\geq 0\n",
    "   \\end{array}\n",
    "   \\right.\n",
    "$$\n",
    "\n",
    "Now, as we have two classes $\\mathcal{C}_1$ and $\\mathcal{C}_2$ so we define a <u>target variable t</u> which takes the values +1 and -1 for $\\mathcal{C}_1$ and $\\mathcal{C}_2$ respectively. Now we need to determine the parameters **w**, for that we need to define an error function which we have to minimize.\n",
    "\n",
    "A natural choice for the error function is total number of misclassified patterns, however this causes some problems in the learning algorithm. Hence we propose an alternate error function called the *perceptron criterion* given by \n",
    "\n",
    "$$ E_p(\\textbf{w}) = - \\sum \\limits _{n \\in \\mathcal{M}} \\textbf{w}^T \\phi (\\textbf{x}_n) t_n \\quad \\quad \\quad (2)$$\n",
    "\n",
    "Here, $\\mathcal{M}$ denotes the set of all the misclassified patterns, the reasoning behind this functional can be found Christopher M Bishop's book [here](http://www.springer.com/gp/book/9780387310732) :D"
   ]
  },
  {
   "cell_type": "markdown",
   "metadata": {},
   "source": [
    "### Trivial example\n",
    "\n",
    "Here we will simplate a trivial example in the case of a 2D data within the space [-1,1] x [-1,1], and we will asumme that $\\phi(x_n) = x_n \\quad \\forall x_n$. We first need to generate the data"
   ]
  },
  {
   "cell_type": "code",
   "execution_count": 27,
   "metadata": {
    "collapsed": false
   },
   "outputs": [],
   "source": [
    "%matplotlib inline\n",
    "\n",
    "import numpy as np\n",
    "import scipy as sp\n",
    "import matplotlib.pyplot as plt\n",
    "\n",
    "# now we genrate the data\n",
    "N = 30\n",
    "x = np.zeros(N, dtype=np.float64)\n",
    "y = np.zeros(N, dtype=np.float64)\n",
    "for k in range(N):\n",
    "    x[k], y[k] = [np.random.uniform(-1,1) for i in range(2)]\n",
    "    \n",
    "a = np.random.uniform(-1,1)\n",
    "b = np.random.uniform(-1,1)\n",
    "c = np.random.uniform(-1,1)\n",
    "label = np.ones(N) # stores the labels for two classes, 1 for C1 and -1 for C2\n",
    "xa = []\n",
    "ya = []\n",
    "xb = []\n",
    "yb = []\n",
    "N1 = 0\n",
    "N2 = 0\n",
    "\n",
    "# the random line divides the points into two classes of size N1 and N2\n",
    "for k in range(N):\n",
    "    temp = a*x[k] + b*y[k] + c\n",
    "    if temp > 0:\n",
    "        xa.append(x[k])\n",
    "        ya.append(y[k])\n",
    "        N1 += 1\n",
    "    else:\n",
    "        label[k] = -1\n",
    "        xb.append(x[k])\n",
    "        yb.append(y[k])\n",
    "        N2 += 1"
   ]
  },
  {
   "cell_type": "markdown",
   "metadata": {},
   "source": [
    "Now we plot the two classes as a scatter plot!"
   ]
  },
  {
   "cell_type": "code",
   "execution_count": 28,
   "metadata": {
    "collapsed": false
   },
   "outputs": [
    {
     "data": {
      "text/plain": [
       "<matplotlib.text.Text at 0x1130c0c10>"
      ]
     },
     "execution_count": 28,
     "metadata": {},
     "output_type": "execute_result"
    },
    {
     "data": {
      "image/png": "[encoded data removed]",
      "text/plain": [
       "<matplotlib.figure.Figure at 0x112e00150>"
      ]
     },
     "metadata": {},
     "output_type": "display_data"
    }
   ],
   "source": [
    "plt.scatter(xa, ya, color = 'b')\n",
    "plt.hold(True)\n",
    "plt.scatter(xb, yb, color = 'r')\n",
    "plt.title('Scatter plot of the data, N = 30')"
   ]
  },
  {
   "cell_type": "markdown",
   "metadata": {},
   "source": [
    "Now we want to classify this synthetic data using the perceptron model which will be trained using this data, and then we will test using the same data (this is called, self classification test). To proceed further we first need to train our perceptron model using the theory above.\n",
    "\n",
    "Here the dimention of weight vector $\\textbf{w}$ is 3 (as we just need to estimate a line). So we initilize the parameters as ones. "
   ]
  },
  {
   "cell_type": "code",
   "execution_count": 49,
   "metadata": {
    "collapsed": true
   },
   "outputs": [],
   "source": [
    "w = np.ones(3, dtype=np.float64) # the weights\n",
    "iter_max = 100 # maximum number of iterations\n",
    "error = 100.0 # randomly initilize the classification error\n",
    "it = 0 # variable to store the iteration number\n",
    "eta = 0.02 # the step size (try varying this)\n",
    "classified_labels = np.ones(N)"
   ]
  },
  {
   "cell_type": "markdown",
   "metadata": {},
   "source": [
    "Now how do we solve for the parameters. Easy, we apply simple gradient descent on the _objective function_ (the function of the parameters to be estimated, which is to be minimized). So we take the derivative of the equation (2) and we get\n",
    "\n",
    "$$ \\textbf{w}^{(l+1)} = \\textbf{w}^{(l)} + \\eta \\sum \\limits_{n \\in \\mathcal{M}} \\phi (\\textbf{x}_n) t_n $$\n",
    "\n",
    "So now we start coding the actual parameter estimation part. "
   ]
  },
  {
   "cell_type": "code",
   "execution_count": 50,
   "metadata": {
    "collapsed": false
   },
   "outputs": [
    {
     "name": "stdout",
     "output_type": "stream",
     "text": [
      "0\n",
      "30.4324768092\n",
      "1\n",
      "2.28166531608\n",
      "2\n",
      "0\n"
     ]
    }
   ],
   "source": [
    "while (error != 0 and it < iter_max):\n",
    "    print(it)\n",
    "    # Update Rules\n",
    "    temp_vec = np.zeros(3, dtype=np.float64)\n",
    "    for i in range(N):\n",
    "        if label[i] != classified_labels[i]:\n",
    "            temp += eta * np.array([x[i], y[i], 1]) * label[i]\n",
    "    \n",
    "    w += temp\n",
    "    # recompute the classification\n",
    "    for i in range(N):\n",
    "        temp = w[0]*x[i] + w[1]*y[i] + w[2]\n",
    "        if temp > 0:\n",
    "            classified_labels[i] = 1\n",
    "        else:\n",
    "            classified_labels[i] = -1\n",
    "            \n",
    "    # compute the misclassification error\n",
    "    error = 0\n",
    "    for i in range(N):\n",
    "        temp = w[0]*x[i] + w[1]*y[i] + w[2]\n",
    "        if label[i] != classified_labels[i]:\n",
    "            error += - label[i] * temp\n",
    "    it +=1"
   ]
  },
  {
   "cell_type": "code",
   "execution_count": 53,
   "metadata": {
    "collapsed": false
   },
   "outputs": [
    {
     "data": {
      "text/plain": [
       "<matplotlib.text.Text at 0x1134da610>"
      ]
     },
     "execution_count": 53,
     "metadata": {},
     "output_type": "execute_result"
    },
    {
     "data": {
      "image/png": "[encoded data removed]",
      "text/plain": [
       "<matplotlib.figure.Figure at 0x113278710>"
      ]
     },
     "metadata": {},
     "output_type": "display_data"
    }
   ],
   "source": [
    "x = np.linspace(-1,1,100)\n",
    "y = -(w[0] * x + w[2]) / w[1]\n",
    "plt.scatter(xa, ya, color = 'b')\n",
    "plt.hold(True)\n",
    "plt.scatter(xb, yb, color = 'r')\n",
    "plt.plot(x,y, color='k')\n",
    "plt.title('Perceptron classified data (the line)')"
   ]
  },
  {
   "cell_type": "markdown",
   "metadata": {},
   "source": [
    "We can see that this perceptron model classifies the data very well :) lest check how close the weights are to the actual line we took to generate the data"
   ]
  },
  {
   "cell_type": "code",
   "execution_count": 57,
   "metadata": {
    "collapsed": false
   },
   "outputs": [
    {
     "data": {
      "text/plain": [
       "<matplotlib.legend.Legend at 0x1137a0990>"
      ]
     },
     "execution_count": 57,
     "metadata": {},
     "output_type": "execute_result"
    },
    {
     "data": {
      "image/png": "[encoded data removed]",
      "text/plain": [
       "<matplotlib.figure.Figure at 0x1137a0750>"
      ]
     },
     "metadata": {},
     "output_type": "display_data"
    }
   ],
   "source": [
    "x = np.linspace(-1,1,100)\n",
    "y = -(w[0] * x + w[2]) / w[1]\n",
    "plt.plot(x,y,color='b')\n",
    "x = np.linspace(-1,1,100)\n",
    "y = -(a * x + c) / b\n",
    "plt.hold(True)\n",
    "plt.plot(x,y,color='r')\n",
    "plt.legend(['predicted', 'original'])"
   ]
  },
  {
   "cell_type": "markdown",
   "metadata": {},
   "source": [
    "Try changing the N and see how the prediction changes! Now we will move on to see how this will help us in neural networks."
   ]
  },
  {
   "cell_type": "markdown",
   "metadata": {
    "collapsed": true
   },
   "source": [
    "## Multilayer Perceptron"
   ]
  },
  {
   "cell_type": "markdown",
   "metadata": {},
   "source": [
    "### Brief Intro to Neural Networks\n",
    "\n",
    "In very short and sweet terms neural networks aims at making mathematical constructs for information processing mimicing biological systems. Disregarding several constraints that actual biological construct gives us, we can use the core idea of neural networks for many pattern recognition applications, the following aspects of the theory are taken from Christopher Bishop's book."
   ]
  },
  {
   "cell_type": "markdown",
   "metadata": {},
   "source": [
    "### The most basic.."
   ]
  },
  {
   "cell_type": "markdown",
   "metadata": {},
   "source": [
    "The _multilayer perceptron_ that we are going to discuss now is one of the most simplest and widely used models for neural networks, it's also known as _Feed Forward Networks_. \n",
    "The goal is to extend the regression model by making the $\\phi (x_j)$ depend on some parameters which are to be estimated along with the set of weights $\\{w\\}_j$. So by (3) we now use simple linear comination to describe the neural network in terms of series of functional transformations\n",
    "\n",
    "(A) M linear combinations of the inputs $(x_1,...,x_D)$ to generate activations\n",
    "\n",
    "$$a_j = \\sum \\limits_{i=1}^D w_{ji}^{(1)}x_i + w_{j0}^{(1)} \\quad \\quad \\quad (3)$$\n",
    "\n",
    "The superscript (1) denotes the first layer of the neural network.\n",
    "\n",
    "(B) Transformation of activations by a _differentiable, non-linear activation function_ h(.)\n",
    "\n",
    "$$z_i = h(a_i) \\quad \\quad \\quad (4)$$\n",
    "\n",
    "these $z_i$ are the _hidden units_ and the two equations (3) and (4) combine to what looks like a perceptron model. \n",
    "\n",
    "(C) Similar to inputs we have output activations which are constructed by linearly combining the hidden units\n",
    "\n",
    "$$a_k = \\sum \\limits_{j=1}^{M} w_{kj}^{(2)}z_j + w_{k0}^{(2)} \\quad \\quad \\quad (5)$$\n",
    "\n",
    "(D) Lastly the output activations passed through a non-linear activation function gives the network outputs\n",
    "\n",
    "$$y_k = \\sigma (a_k) \\quad \\quad \\quad (6)$$\n",
    "\n",
    "These steps can be represented as the following figure (Taken from Pattern Recognition and Machine Learning by Christopher Bishop)"
   ]
  },
  {
   "cell_type": "markdown",
   "metadata": {},
   "source": [
    " <img src=\"nndiagram.png\"></img>"
   ]
  },
  {
   "cell_type": "markdown",
   "metadata": {},
   "source": [
    "The model is _forward propogating_, and once we put the $x_0 = 1$ and join the bias weight to the set of weights we can see why this looks like a multilayer perceptron model. The key difference is that hidded units use continious (sigmoidal) non-linearities which makes the overall network function (by combimining all the steps) differetiable wrt the parameters, which helps in smooth training as we will see further."
   ]
  },
  {
   "cell_type": "code",
   "execution_count": null,
   "metadata": {
    "collapsed": true
   },
   "outputs": [],
   "source": []
  }
 ],
 "metadata": {
  "kernelspec": {
   "display_name": "Python 2",
   "language": "python",
   "name": "python2"
  },
  "language_info": {
   "codemirror_mode": {
    "name": "ipython",
    "version": 2
   },
   "file_extension": ".py",
   "mimetype": "text/x-python",
   "name": "python",
   "nbconvert_exporter": "python",
   "pygments_lexer": "ipython2",
   "version": "2.7.6"
  }
 },
 "nbformat": 4,
 "nbformat_minor": 0
}
